{
 "cells": [
  {
   "cell_type": "markdown",
   "id": "c269f035-24f8-4e3b-8ea7-fe7d76b01201",
   "metadata": {},
   "source": [
    "# CS 7646: Machine Learning for Trading\n"
   ]
  },
  {
   "cell_type": "code",
   "execution_count": 1,
   "id": "22404a8d-1623-4a4b-aac3-e99963a04163",
   "metadata": {},
   "outputs": [],
   "source": [
    "import pandas as pd"
   ]
  },
  {
   "cell_type": "code",
   "execution_count": 2,
   "id": "b9aa2b5c-1699-48ce-bf50-6dd49e981791",
   "metadata": {},
   "outputs": [],
   "source": [
    "data_dir = \"../ML4T_2022Fall/data/\""
   ]
  },
  {
   "cell_type": "markdown",
   "id": "bc63e170-fd79-45db-9750-110551aedf63",
   "metadata": {
    "tags": []
   },
   "source": [
    "## 01-01 Reading and plotting stock data"
   ]
  },
  {
   "cell_type": "markdown",
   "id": "028f29ed-3ad1-407c-a7bb-e2ac4697ea3a",
   "metadata": {
    "tags": []
   },
   "source": [
    "### Read CSV"
   ]
  },
  {
   "cell_type": "code",
   "execution_count": 3,
   "id": "85932886-6249-4fde-a57c-9fa82b1add1b",
   "metadata": {},
   "outputs": [],
   "source": [
    "def test_run():\n",
    "    df = pd.read_csv(f\"{data_dir}AAPL.csv\")\n",
    "    return df.head()"
   ]
  },
  {
   "cell_type": "code",
   "execution_count": 4,
   "id": "63b07f4c-4fd7-41d6-a2c4-dd5914c6fe66",
   "metadata": {},
   "outputs": [
    {
     "ename": "FileNotFoundError",
     "evalue": "[Errno 2] No such file or directory: '../ML4T_2022Fall/data/AAPL.csv'",
     "output_type": "error",
     "traceback": [
      "\u001b[1;31m---------------------------------------------------------------------------\u001b[0m",
      "\u001b[1;31mFileNotFoundError\u001b[0m                         Traceback (most recent call last)",
      "Input \u001b[1;32mIn [4]\u001b[0m, in \u001b[0;36m<cell line: 1>\u001b[1;34m()\u001b[0m\n\u001b[1;32m----> 1\u001b[0m \u001b[43mtest_run\u001b[49m\u001b[43m(\u001b[49m\u001b[43m)\u001b[49m\n",
      "Input \u001b[1;32mIn [3]\u001b[0m, in \u001b[0;36mtest_run\u001b[1;34m()\u001b[0m\n\u001b[0;32m      1\u001b[0m \u001b[38;5;28;01mdef\u001b[39;00m \u001b[38;5;21mtest_run\u001b[39m():\n\u001b[1;32m----> 2\u001b[0m     df \u001b[38;5;241m=\u001b[39m \u001b[43mpd\u001b[49m\u001b[38;5;241;43m.\u001b[39;49m\u001b[43mread_csv\u001b[49m\u001b[43m(\u001b[49m\u001b[38;5;124;43mf\u001b[39;49m\u001b[38;5;124;43m\"\u001b[39;49m\u001b[38;5;132;43;01m{\u001b[39;49;00m\u001b[43mdata_dir\u001b[49m\u001b[38;5;132;43;01m}\u001b[39;49;00m\u001b[38;5;124;43mAAPL.csv\u001b[39;49m\u001b[38;5;124;43m\"\u001b[39;49m\u001b[43m)\u001b[49m\n\u001b[0;32m      3\u001b[0m     \u001b[38;5;28;01mreturn\u001b[39;00m df\u001b[38;5;241m.\u001b[39mhead()\n",
      "File \u001b[1;32m~\\Anaconda3\\lib\\site-packages\\pandas\\util\\_decorators.py:311\u001b[0m, in \u001b[0;36mdeprecate_nonkeyword_arguments.<locals>.decorate.<locals>.wrapper\u001b[1;34m(*args, **kwargs)\u001b[0m\n\u001b[0;32m    305\u001b[0m \u001b[38;5;28;01mif\u001b[39;00m \u001b[38;5;28mlen\u001b[39m(args) \u001b[38;5;241m>\u001b[39m num_allow_args:\n\u001b[0;32m    306\u001b[0m     warnings\u001b[38;5;241m.\u001b[39mwarn(\n\u001b[0;32m    307\u001b[0m         msg\u001b[38;5;241m.\u001b[39mformat(arguments\u001b[38;5;241m=\u001b[39marguments),\n\u001b[0;32m    308\u001b[0m         \u001b[38;5;167;01mFutureWarning\u001b[39;00m,\n\u001b[0;32m    309\u001b[0m         stacklevel\u001b[38;5;241m=\u001b[39mstacklevel,\n\u001b[0;32m    310\u001b[0m     )\n\u001b[1;32m--> 311\u001b[0m \u001b[38;5;28;01mreturn\u001b[39;00m func(\u001b[38;5;241m*\u001b[39margs, \u001b[38;5;241m*\u001b[39m\u001b[38;5;241m*\u001b[39mkwargs)\n",
      "File \u001b[1;32m~\\Anaconda3\\lib\\site-packages\\pandas\\io\\parsers\\readers.py:680\u001b[0m, in \u001b[0;36mread_csv\u001b[1;34m(filepath_or_buffer, sep, delimiter, header, names, index_col, usecols, squeeze, prefix, mangle_dupe_cols, dtype, engine, converters, true_values, false_values, skipinitialspace, skiprows, skipfooter, nrows, na_values, keep_default_na, na_filter, verbose, skip_blank_lines, parse_dates, infer_datetime_format, keep_date_col, date_parser, dayfirst, cache_dates, iterator, chunksize, compression, thousands, decimal, lineterminator, quotechar, quoting, doublequote, escapechar, comment, encoding, encoding_errors, dialect, error_bad_lines, warn_bad_lines, on_bad_lines, delim_whitespace, low_memory, memory_map, float_precision, storage_options)\u001b[0m\n\u001b[0;32m    665\u001b[0m kwds_defaults \u001b[38;5;241m=\u001b[39m _refine_defaults_read(\n\u001b[0;32m    666\u001b[0m     dialect,\n\u001b[0;32m    667\u001b[0m     delimiter,\n\u001b[1;32m   (...)\u001b[0m\n\u001b[0;32m    676\u001b[0m     defaults\u001b[38;5;241m=\u001b[39m{\u001b[38;5;124m\"\u001b[39m\u001b[38;5;124mdelimiter\u001b[39m\u001b[38;5;124m\"\u001b[39m: \u001b[38;5;124m\"\u001b[39m\u001b[38;5;124m,\u001b[39m\u001b[38;5;124m\"\u001b[39m},\n\u001b[0;32m    677\u001b[0m )\n\u001b[0;32m    678\u001b[0m kwds\u001b[38;5;241m.\u001b[39mupdate(kwds_defaults)\n\u001b[1;32m--> 680\u001b[0m \u001b[38;5;28;01mreturn\u001b[39;00m \u001b[43m_read\u001b[49m\u001b[43m(\u001b[49m\u001b[43mfilepath_or_buffer\u001b[49m\u001b[43m,\u001b[49m\u001b[43m \u001b[49m\u001b[43mkwds\u001b[49m\u001b[43m)\u001b[49m\n",
      "File \u001b[1;32m~\\Anaconda3\\lib\\site-packages\\pandas\\io\\parsers\\readers.py:575\u001b[0m, in \u001b[0;36m_read\u001b[1;34m(filepath_or_buffer, kwds)\u001b[0m\n\u001b[0;32m    572\u001b[0m _validate_names(kwds\u001b[38;5;241m.\u001b[39mget(\u001b[38;5;124m\"\u001b[39m\u001b[38;5;124mnames\u001b[39m\u001b[38;5;124m\"\u001b[39m, \u001b[38;5;28;01mNone\u001b[39;00m))\n\u001b[0;32m    574\u001b[0m \u001b[38;5;66;03m# Create the parser.\u001b[39;00m\n\u001b[1;32m--> 575\u001b[0m parser \u001b[38;5;241m=\u001b[39m TextFileReader(filepath_or_buffer, \u001b[38;5;241m*\u001b[39m\u001b[38;5;241m*\u001b[39mkwds)\n\u001b[0;32m    577\u001b[0m \u001b[38;5;28;01mif\u001b[39;00m chunksize \u001b[38;5;129;01mor\u001b[39;00m iterator:\n\u001b[0;32m    578\u001b[0m     \u001b[38;5;28;01mreturn\u001b[39;00m parser\n",
      "File \u001b[1;32m~\\Anaconda3\\lib\\site-packages\\pandas\\io\\parsers\\readers.py:933\u001b[0m, in \u001b[0;36mTextFileReader.__init__\u001b[1;34m(self, f, engine, **kwds)\u001b[0m\n\u001b[0;32m    930\u001b[0m     \u001b[38;5;28mself\u001b[39m\u001b[38;5;241m.\u001b[39moptions[\u001b[38;5;124m\"\u001b[39m\u001b[38;5;124mhas_index_names\u001b[39m\u001b[38;5;124m\"\u001b[39m] \u001b[38;5;241m=\u001b[39m kwds[\u001b[38;5;124m\"\u001b[39m\u001b[38;5;124mhas_index_names\u001b[39m\u001b[38;5;124m\"\u001b[39m]\n\u001b[0;32m    932\u001b[0m \u001b[38;5;28mself\u001b[39m\u001b[38;5;241m.\u001b[39mhandles: IOHandles \u001b[38;5;241m|\u001b[39m \u001b[38;5;28;01mNone\u001b[39;00m \u001b[38;5;241m=\u001b[39m \u001b[38;5;28;01mNone\u001b[39;00m\n\u001b[1;32m--> 933\u001b[0m \u001b[38;5;28mself\u001b[39m\u001b[38;5;241m.\u001b[39m_engine \u001b[38;5;241m=\u001b[39m \u001b[38;5;28;43mself\u001b[39;49m\u001b[38;5;241;43m.\u001b[39;49m\u001b[43m_make_engine\u001b[49m\u001b[43m(\u001b[49m\u001b[43mf\u001b[49m\u001b[43m,\u001b[49m\u001b[43m \u001b[49m\u001b[38;5;28;43mself\u001b[39;49m\u001b[38;5;241;43m.\u001b[39;49m\u001b[43mengine\u001b[49m\u001b[43m)\u001b[49m\n",
      "File \u001b[1;32m~\\Anaconda3\\lib\\site-packages\\pandas\\io\\parsers\\readers.py:1217\u001b[0m, in \u001b[0;36mTextFileReader._make_engine\u001b[1;34m(self, f, engine)\u001b[0m\n\u001b[0;32m   1213\u001b[0m     mode \u001b[38;5;241m=\u001b[39m \u001b[38;5;124m\"\u001b[39m\u001b[38;5;124mrb\u001b[39m\u001b[38;5;124m\"\u001b[39m\n\u001b[0;32m   1214\u001b[0m \u001b[38;5;66;03m# error: No overload variant of \"get_handle\" matches argument types\u001b[39;00m\n\u001b[0;32m   1215\u001b[0m \u001b[38;5;66;03m# \"Union[str, PathLike[str], ReadCsvBuffer[bytes], ReadCsvBuffer[str]]\"\u001b[39;00m\n\u001b[0;32m   1216\u001b[0m \u001b[38;5;66;03m# , \"str\", \"bool\", \"Any\", \"Any\", \"Any\", \"Any\", \"Any\"\u001b[39;00m\n\u001b[1;32m-> 1217\u001b[0m \u001b[38;5;28mself\u001b[39m\u001b[38;5;241m.\u001b[39mhandles \u001b[38;5;241m=\u001b[39m \u001b[43mget_handle\u001b[49m\u001b[43m(\u001b[49m\u001b[43m  \u001b[49m\u001b[38;5;66;43;03m# type: ignore[call-overload]\u001b[39;49;00m\n\u001b[0;32m   1218\u001b[0m \u001b[43m    \u001b[49m\u001b[43mf\u001b[49m\u001b[43m,\u001b[49m\n\u001b[0;32m   1219\u001b[0m \u001b[43m    \u001b[49m\u001b[43mmode\u001b[49m\u001b[43m,\u001b[49m\n\u001b[0;32m   1220\u001b[0m \u001b[43m    \u001b[49m\u001b[43mencoding\u001b[49m\u001b[38;5;241;43m=\u001b[39;49m\u001b[38;5;28;43mself\u001b[39;49m\u001b[38;5;241;43m.\u001b[39;49m\u001b[43moptions\u001b[49m\u001b[38;5;241;43m.\u001b[39;49m\u001b[43mget\u001b[49m\u001b[43m(\u001b[49m\u001b[38;5;124;43m\"\u001b[39;49m\u001b[38;5;124;43mencoding\u001b[39;49m\u001b[38;5;124;43m\"\u001b[39;49m\u001b[43m,\u001b[49m\u001b[43m \u001b[49m\u001b[38;5;28;43;01mNone\u001b[39;49;00m\u001b[43m)\u001b[49m\u001b[43m,\u001b[49m\n\u001b[0;32m   1221\u001b[0m \u001b[43m    \u001b[49m\u001b[43mcompression\u001b[49m\u001b[38;5;241;43m=\u001b[39;49m\u001b[38;5;28;43mself\u001b[39;49m\u001b[38;5;241;43m.\u001b[39;49m\u001b[43moptions\u001b[49m\u001b[38;5;241;43m.\u001b[39;49m\u001b[43mget\u001b[49m\u001b[43m(\u001b[49m\u001b[38;5;124;43m\"\u001b[39;49m\u001b[38;5;124;43mcompression\u001b[39;49m\u001b[38;5;124;43m\"\u001b[39;49m\u001b[43m,\u001b[49m\u001b[43m \u001b[49m\u001b[38;5;28;43;01mNone\u001b[39;49;00m\u001b[43m)\u001b[49m\u001b[43m,\u001b[49m\n\u001b[0;32m   1222\u001b[0m \u001b[43m    \u001b[49m\u001b[43mmemory_map\u001b[49m\u001b[38;5;241;43m=\u001b[39;49m\u001b[38;5;28;43mself\u001b[39;49m\u001b[38;5;241;43m.\u001b[39;49m\u001b[43moptions\u001b[49m\u001b[38;5;241;43m.\u001b[39;49m\u001b[43mget\u001b[49m\u001b[43m(\u001b[49m\u001b[38;5;124;43m\"\u001b[39;49m\u001b[38;5;124;43mmemory_map\u001b[39;49m\u001b[38;5;124;43m\"\u001b[39;49m\u001b[43m,\u001b[49m\u001b[43m \u001b[49m\u001b[38;5;28;43;01mFalse\u001b[39;49;00m\u001b[43m)\u001b[49m\u001b[43m,\u001b[49m\n\u001b[0;32m   1223\u001b[0m \u001b[43m    \u001b[49m\u001b[43mis_text\u001b[49m\u001b[38;5;241;43m=\u001b[39;49m\u001b[43mis_text\u001b[49m\u001b[43m,\u001b[49m\n\u001b[0;32m   1224\u001b[0m \u001b[43m    \u001b[49m\u001b[43merrors\u001b[49m\u001b[38;5;241;43m=\u001b[39;49m\u001b[38;5;28;43mself\u001b[39;49m\u001b[38;5;241;43m.\u001b[39;49m\u001b[43moptions\u001b[49m\u001b[38;5;241;43m.\u001b[39;49m\u001b[43mget\u001b[49m\u001b[43m(\u001b[49m\u001b[38;5;124;43m\"\u001b[39;49m\u001b[38;5;124;43mencoding_errors\u001b[39;49m\u001b[38;5;124;43m\"\u001b[39;49m\u001b[43m,\u001b[49m\u001b[43m \u001b[49m\u001b[38;5;124;43m\"\u001b[39;49m\u001b[38;5;124;43mstrict\u001b[39;49m\u001b[38;5;124;43m\"\u001b[39;49m\u001b[43m)\u001b[49m\u001b[43m,\u001b[49m\n\u001b[0;32m   1225\u001b[0m \u001b[43m    \u001b[49m\u001b[43mstorage_options\u001b[49m\u001b[38;5;241;43m=\u001b[39;49m\u001b[38;5;28;43mself\u001b[39;49m\u001b[38;5;241;43m.\u001b[39;49m\u001b[43moptions\u001b[49m\u001b[38;5;241;43m.\u001b[39;49m\u001b[43mget\u001b[49m\u001b[43m(\u001b[49m\u001b[38;5;124;43m\"\u001b[39;49m\u001b[38;5;124;43mstorage_options\u001b[39;49m\u001b[38;5;124;43m\"\u001b[39;49m\u001b[43m,\u001b[49m\u001b[43m \u001b[49m\u001b[38;5;28;43;01mNone\u001b[39;49;00m\u001b[43m)\u001b[49m\u001b[43m,\u001b[49m\n\u001b[0;32m   1226\u001b[0m \u001b[43m\u001b[49m\u001b[43m)\u001b[49m\n\u001b[0;32m   1227\u001b[0m \u001b[38;5;28;01massert\u001b[39;00m \u001b[38;5;28mself\u001b[39m\u001b[38;5;241m.\u001b[39mhandles \u001b[38;5;129;01mis\u001b[39;00m \u001b[38;5;129;01mnot\u001b[39;00m \u001b[38;5;28;01mNone\u001b[39;00m\n\u001b[0;32m   1228\u001b[0m f \u001b[38;5;241m=\u001b[39m \u001b[38;5;28mself\u001b[39m\u001b[38;5;241m.\u001b[39mhandles\u001b[38;5;241m.\u001b[39mhandle\n",
      "File \u001b[1;32m~\\Anaconda3\\lib\\site-packages\\pandas\\io\\common.py:789\u001b[0m, in \u001b[0;36mget_handle\u001b[1;34m(path_or_buf, mode, encoding, compression, memory_map, is_text, errors, storage_options)\u001b[0m\n\u001b[0;32m    784\u001b[0m \u001b[38;5;28;01melif\u001b[39;00m \u001b[38;5;28misinstance\u001b[39m(handle, \u001b[38;5;28mstr\u001b[39m):\n\u001b[0;32m    785\u001b[0m     \u001b[38;5;66;03m# Check whether the filename is to be opened in binary mode.\u001b[39;00m\n\u001b[0;32m    786\u001b[0m     \u001b[38;5;66;03m# Binary mode does not support 'encoding' and 'newline'.\u001b[39;00m\n\u001b[0;32m    787\u001b[0m     \u001b[38;5;28;01mif\u001b[39;00m ioargs\u001b[38;5;241m.\u001b[39mencoding \u001b[38;5;129;01mand\u001b[39;00m \u001b[38;5;124m\"\u001b[39m\u001b[38;5;124mb\u001b[39m\u001b[38;5;124m\"\u001b[39m \u001b[38;5;129;01mnot\u001b[39;00m \u001b[38;5;129;01min\u001b[39;00m ioargs\u001b[38;5;241m.\u001b[39mmode:\n\u001b[0;32m    788\u001b[0m         \u001b[38;5;66;03m# Encoding\u001b[39;00m\n\u001b[1;32m--> 789\u001b[0m         handle \u001b[38;5;241m=\u001b[39m \u001b[38;5;28;43mopen\u001b[39;49m\u001b[43m(\u001b[49m\n\u001b[0;32m    790\u001b[0m \u001b[43m            \u001b[49m\u001b[43mhandle\u001b[49m\u001b[43m,\u001b[49m\n\u001b[0;32m    791\u001b[0m \u001b[43m            \u001b[49m\u001b[43mioargs\u001b[49m\u001b[38;5;241;43m.\u001b[39;49m\u001b[43mmode\u001b[49m\u001b[43m,\u001b[49m\n\u001b[0;32m    792\u001b[0m \u001b[43m            \u001b[49m\u001b[43mencoding\u001b[49m\u001b[38;5;241;43m=\u001b[39;49m\u001b[43mioargs\u001b[49m\u001b[38;5;241;43m.\u001b[39;49m\u001b[43mencoding\u001b[49m\u001b[43m,\u001b[49m\n\u001b[0;32m    793\u001b[0m \u001b[43m            \u001b[49m\u001b[43merrors\u001b[49m\u001b[38;5;241;43m=\u001b[39;49m\u001b[43merrors\u001b[49m\u001b[43m,\u001b[49m\n\u001b[0;32m    794\u001b[0m \u001b[43m            \u001b[49m\u001b[43mnewline\u001b[49m\u001b[38;5;241;43m=\u001b[39;49m\u001b[38;5;124;43m\"\u001b[39;49m\u001b[38;5;124;43m\"\u001b[39;49m\u001b[43m,\u001b[49m\n\u001b[0;32m    795\u001b[0m \u001b[43m        \u001b[49m\u001b[43m)\u001b[49m\n\u001b[0;32m    796\u001b[0m     \u001b[38;5;28;01melse\u001b[39;00m:\n\u001b[0;32m    797\u001b[0m         \u001b[38;5;66;03m# Binary mode\u001b[39;00m\n\u001b[0;32m    798\u001b[0m         handle \u001b[38;5;241m=\u001b[39m \u001b[38;5;28mopen\u001b[39m(handle, ioargs\u001b[38;5;241m.\u001b[39mmode)\n",
      "\u001b[1;31mFileNotFoundError\u001b[0m: [Errno 2] No such file or directory: '../ML4T_2022Fall/data/AAPL.csv'"
     ]
    }
   ],
   "source": [
    "test_run()"
   ]
  },
  {
   "cell_type": "markdown",
   "id": "7ef410fa-7ce5-45c7-a3b1-c0ff3346166b",
   "metadata": {},
   "source": [
    "### Select rows"
   ]
  },
  {
   "cell_type": "code",
   "execution_count": null,
   "id": "dfaa606d-72f6-423a-890b-446727b6a23c",
   "metadata": {},
   "outputs": [],
   "source": [
    "def test_run():\n",
    "    df = pd.read_csv(f\"{data_dir}AAPL.csv\")\n",
    "    return df[10:21]  # rows between index 10 and 20"
   ]
  },
  {
   "cell_type": "code",
   "execution_count": null,
   "id": "360ba77a-0c67-4519-befc-8a24149a859f",
   "metadata": {},
   "outputs": [],
   "source": [
    "test_run()"
   ]
  },
  {
   "cell_type": "markdown",
   "id": "f1abea12-9a4b-4e5f-b191-667b9a3d3480",
   "metadata": {},
   "source": [
    "### Compute max closing price"
   ]
  },
  {
   "cell_type": "code",
   "execution_count": null,
   "id": "0b9fdcfd-9dc5-4f59-bad7-bb0d21990048",
   "metadata": {},
   "outputs": [],
   "source": [
    "def get_max_close(symbol):\n",
    "    \"\"\"Return the maximum closing value for stock indicated by symbol.\n",
    "\n",
    "    Note: Data for a stock is stored in file: data/<symbol>.csv\n",
    "    \"\"\"\n",
    "    df = pd.read_csv(\"{}/{}.csv\".format(data_dir, symbol))  # read in data\n",
    "    return  df['Close'].max() # compute and return max\n",
    "\n",
    "def test_run():\n",
    "    \"\"\"Function called by Test Run.\"\"\"\n",
    "    for symbol in ['AAPL', 'IBM']:\n",
    "        print (\"Max close\")\n",
    "        print (symbol, get_max_close(symbol))\n",
    "        \n",
    "test_run()"
   ]
  },
  {
   "cell_type": "markdown",
   "id": "96d80c08-ca69-4d07-a7c4-0a3bd0c0b8d2",
   "metadata": {},
   "source": [
    "### Compute mean volume"
   ]
  },
  {
   "cell_type": "code",
   "execution_count": null,
   "id": "ca80c496-d8fa-4efa-8ac9-7fdb8ff0b99c",
   "metadata": {},
   "outputs": [],
   "source": [
    "def get_mean_volume(symbol):\n",
    "    \"\"\"Return the mean volume for stock indicated by symbol.\n",
    "    Note: Data for a stock is stored in file: data/<symbol>.csv\n",
    "    \"\"\"\n",
    "    df = pd.read_csv(\"{}/{}.csv\".format(data_dir, symbol))  # read in data\n",
    "    # Quiz: Compute and return the mean volume for this stock\n",
    "    return df['Volume'].mean()\n",
    "   \n",
    "def test_run():\n",
    "    \"\"\"Function called by Test Run.\"\"\"\n",
    "    for symbol in ['AAPL', 'IBM']:\n",
    "        print (\"Mean Volume\")\n",
    "        print (symbol, get_mean_volume(symbol))\n",
    "        \n",
    "test_run()"
   ]
  },
  {
   "cell_type": "markdown",
   "id": "83a0173d-0386-4bfc-af07-b7d47b3b7440",
   "metadata": {},
   "source": [
    "### Plotting stock price data"
   ]
  },
  {
   "cell_type": "code",
   "execution_count": null,
   "id": "40affd65-9627-4a32-88cc-6d0dc259fe6c",
   "metadata": {},
   "outputs": [],
   "source": [
    "import matplotlib.pyplot as plt"
   ]
  },
  {
   "cell_type": "code",
   "execution_count": null,
   "id": "65563374-81d5-4388-b63a-d2653c84086d",
   "metadata": {},
   "outputs": [],
   "source": [
    "def test_run():\n",
    "    df = pd.read_csv(f\"{data_dir}/AAPL.csv\")\n",
    "    print(df['Adj Close'])\n",
    "    df['Adj Close'].plot()\n",
    "    plt.show() # must be called to show plots\n",
    "    \n",
    "test_run()"
   ]
  },
  {
   "cell_type": "markdown",
   "id": "bce4213a-5ab6-4e2c-98a3-618ff502f049",
   "metadata": {},
   "source": [
    "### Plot High prices for IBM"
   ]
  },
  {
   "cell_type": "code",
   "execution_count": null,
   "id": "540c39c6-d80d-4b21-a5ac-a5da1c1741f0",
   "metadata": {},
   "outputs": [],
   "source": [
    "def test_run():\n",
    "    df = pd.read_csv(f\"{data_dir}/IBM.csv\")\n",
    "    print(df['High'])\n",
    "    df['High'].plot()\n",
    "    plt.show()\n",
    "    \n",
    "test_run()"
   ]
  },
  {
   "cell_type": "markdown",
   "id": "174e5f19-afea-4eea-9159-8ccfed1120d2",
   "metadata": {},
   "source": [
    "### Plot two columns"
   ]
  },
  {
   "cell_type": "code",
   "execution_count": null,
   "id": "79873461-6741-4772-80d7-d9b9a98906cb",
   "metadata": {},
   "outputs": [],
   "source": [
    "def test_run():\n",
    "    df = pd.read_csv(f\"{data_dir}/AAPL.csv\")\n",
    "    df[['Close', 'Adj Close']].plot()\n",
    "    plt.show()\n",
    "    \n",
    "test_run()"
   ]
  },
  {
   "cell_type": "markdown",
   "id": "9793e992-e54f-43f1-81a0-85b38bd844cd",
   "metadata": {
    "tags": []
   },
   "source": [
    "## 01-02 Working with multiple stocks"
   ]
  },
  {
   "cell_type": "markdown",
   "id": "95731862-1e22-4aab-8bd6-23256eda4b45",
   "metadata": {},
   "source": [
    "### Create an empty DataFrame"
   ]
  },
  {
   "cell_type": "code",
   "execution_count": null,
   "id": "f35afc33-2ea0-4a74-b59f-9a7848abea18",
   "metadata": {},
   "outputs": [],
   "source": [
    "def test_run():\n",
    "    # Define date ranges\n",
    "    start_date = '2010-01-22'\n",
    "    end_date = '2010-01-26'\n",
    "    dates = pd.date_range(start_date, end_date)\n",
    "    \n",
    "    # Create an empty DataFrame\n",
    "    df1 = pd.DataFrame(index=dates)\n",
    "    \n",
    "    return df1\n",
    "\n",
    "test_run()"
   ]
  },
  {
   "cell_type": "markdown",
   "id": "4cd97e13-b2d3-4596-b7f9-f38d3e588f86",
   "metadata": {},
   "source": [
    "### Join SPY data"
   ]
  },
  {
   "cell_type": "code",
   "execution_count": null,
   "id": "28459e9d-2510-41e1-bc6a-0e9a00ab1b90",
   "metadata": {},
   "outputs": [],
   "source": [
    "def test_run():\n",
    "    # Define date ranges\n",
    "    start_date = '2010-01-22'\n",
    "    end_date = '2010-01-26'\n",
    "    dates = pd.date_range(start_date, end_date)\n",
    "    \n",
    "    # Create an empty DataFrame\n",
    "    df1 = pd.DataFrame(index=dates)\n",
    "    \n",
    "    # Read SPY data into temporary DataFrame\n",
    "    dfSPY = pd.read_csv(f\"{data_dir}SPY.csv\",\n",
    "                        index_col='Date',\n",
    "                        parse_dates=True,\n",
    "                        usecols=['Date', 'Adj Close'],\n",
    "                        na_values=['nan'])\n",
    "    \n",
    "    # Join the two DataFrames using DataFrame.join()\n",
    "    df1 = df1.join(dfSPY, how='inner')  # default how='left'\n",
    "    \n",
    "    return df1\n",
    "\n",
    "test_run()"
   ]
  },
  {
   "cell_type": "markdown",
   "id": "6ee47ee4-7501-41ee-b20a-2bad380a149f",
   "metadata": {},
   "source": [
    "### Read in more stocks"
   ]
  },
  {
   "cell_type": "code",
   "execution_count": null,
   "id": "e95bbf98-b3b9-4e4f-acde-0de24c2e0106",
   "metadata": {},
   "outputs": [],
   "source": [
    "# How many days were U.S. stocks traded at NYSE in 2014\n",
    "def test_run():\n",
    "    # Define date ranges\n",
    "    start_date = '2010-01-22'\n",
    "    end_date = '2010-01-26'\n",
    "    dates = pd.date_range(start_date, end_date)\n",
    "    \n",
    "    # Create an empty DataFrame\n",
    "    df1 = pd.DataFrame(index=dates)\n",
    "    \n",
    "    # Read SPY data into temporary DataFrame\n",
    "    dfSPY = pd.read_csv(f\"{data_dir}SPY.csv\",\n",
    "                        index_col='Date',\n",
    "                        parse_dates=True,\n",
    "                        usecols=['Date', 'Adj Close'],\n",
    "                        na_values=['nan'])\n",
    "    \n",
    "    # Join the two DataFrames using DataFrame.join()\n",
    "    df1 = df1.join(dfSPY, how='inner')  # default how='left'\n",
    "    \n",
    "    # Load more stocks\n",
    "    symbols = ['GOOG', 'IBM', 'GLD']\n",
    "    for stock in symbols:\n",
    "        df_temp = pd.read_csv(f\"{data_dir}/{stock}.csv\",\n",
    "                              index_col='Date',\n",
    "                              parse_dates=True,\n",
    "                              usecols=['Date', 'Adj Close'],\n",
    "                              na_values=['nan'])\n",
    "        df_temp = df_temp.rename(columns={'Adj Close': stock})\n",
    "        df1 = df1.join(df_temp)  # use default how='left'\n",
    "        \n",
    "    return df1\n",
    "    \n",
    "test_run()"
   ]
  },
  {
   "cell_type": "markdown",
   "id": "b3e80ea4-0ca9-46e3-b456-a9c68c256cbb",
   "metadata": {},
   "source": [
    "### Utility functions"
   ]
  },
  {
   "cell_type": "code",
   "execution_count": null,
   "id": "9df4ec8c-a9a1-4ae6-a242-60c07f063482",
   "metadata": {},
   "outputs": [],
   "source": [
    "import os"
   ]
  },
  {
   "cell_type": "code",
   "execution_count": null,
   "id": "2e17cef9-1bf7-4328-9cd2-a622bbd3fa84",
   "metadata": {},
   "outputs": [],
   "source": [
    "def symbol_to_path(symbol, base_dir=data_dir):\n",
    "    \"\"\"Return CSV file path given ticker symbol.\"\"\"\n",
    "    return os.path.join(base_dir, f\"{str(symbol)}.csv\")\n",
    "\n",
    "\n",
    "def get_data(symbols, dates):\n",
    "    \"\"\"Read stock data (adjusted close) for given symbols from CSV files.\"\"\"\n",
    "    df = pd.DataFrame(index=dates)\n",
    "    if 'SPY' not in symbols:  # add SPY for reference, if absent\n",
    "        symbols.insert(0, 'SPY')\n",
    "    \n",
    "    for symbol in symbols:\n",
    "        df_temp = pd.read_csv(f\"{symbol_to_path(symbol)}\",\n",
    "                              index_col='Date',\n",
    "                              parse_dates=True,\n",
    "                              usecols=['Date', 'Adj Close'],\n",
    "                              na_values=['nan'])\n",
    "        df_temp = df_temp.rename(columns={'Adj Close': symbol})\n",
    "        df = df.join(df_temp)  # use default how='left'\n",
    "        if symbol == 'SPY':\n",
    "            df = df.dropna(subset=['SPY'])\n",
    "        \n",
    "    return df\n",
    "\n",
    "\n",
    "def test_run():\n",
    "    # Define a data range\n",
    "    dates = pd.date_range('2010-01-22', '2010-01-26')\n",
    "    \n",
    "    # Choose stock symbols to read\n",
    "    symbols = ['GOOG', 'IBM', 'GLD']\n",
    "    \n",
    "    # Get stock data\n",
    "    df = get_data(symbols=symbols, dates=dates)\n",
    "    return df\n",
    "\n",
    "test_run()"
   ]
  },
  {
   "cell_type": "markdown",
   "id": "a2cbaad5-df36-437f-9e87-4d1ff08da816",
   "metadata": {},
   "source": [
    "### Slicing"
   ]
  },
  {
   "cell_type": "code",
   "execution_count": null,
   "id": "7f4993f9-811b-4771-bb3d-7c1a374f6964",
   "metadata": {},
   "outputs": [],
   "source": [
    "def test_run():\n",
    "    # Define a data range\n",
    "    dates = pd.date_range('2010-01-01', '2010-12-31') # year 2010\n",
    "    \n",
    "    # Choose stock symbols to read\n",
    "    symbols = ['GOOG', 'IBM', 'GLD']  # SPY will be added in get_data()\n",
    "    \n",
    "    # Get stock data\n",
    "    df = get_data(symbols=symbols, dates=dates)\n",
    "    \n",
    "    # Slice by row range (dates) using DataFrame.ix[] selector\n",
    "    return df.loc['2010-01-01':'2010-01-31']  # month of January\n",
    "\n",
    "df = test_run()\n",
    "df"
   ]
  },
  {
   "cell_type": "code",
   "execution_count": null,
   "id": "db52bb82-12a9-423f-9b83-fcd94f3130e5",
   "metadata": {},
   "outputs": [],
   "source": [
    "# Slice by column\n",
    "df['GOOG'].head()  # a single label selects a single column"
   ]
  },
  {
   "cell_type": "code",
   "execution_count": null,
   "id": "0698493b-84bc-4186-a594-6759d8cc456a",
   "metadata": {},
   "outputs": [],
   "source": [
    "df[['IBM', 'GLD']].head()  # a list of labels selects multiple columns"
   ]
  },
  {
   "cell_type": "code",
   "execution_count": null,
   "id": "d9f0f19b-10e9-4e67-95c1-e08b01c41391",
   "metadata": {},
   "outputs": [],
   "source": [
    "# Slice by row and column\n",
    "df.loc['2010-01-01':'2010-01-31', ['SPY', 'IBM']]  # month of January"
   ]
  },
  {
   "cell_type": "markdown",
   "id": "e1a58ed8-eb48-49d9-b636-ec8ab8977714",
   "metadata": {},
   "source": [
    "### Plotting multiple stocks"
   ]
  },
  {
   "cell_type": "code",
   "execution_count": null,
   "id": "05526bdb-e67b-43f1-ba43-bb683bc2b052",
   "metadata": {},
   "outputs": [],
   "source": [
    "# Reset DataFrame\n",
    "def reset_df():\n",
    "    dates = pd.date_range('2010-01-01', '2010-12-31') # year 2010\n",
    "    symbols = ['GOOG', 'IBM', 'GLD']  # SPY will be added in get_data()\n",
    "    df = get_data(symbols=symbols, dates=dates)\n",
    "    return df\n",
    "\n",
    "df = reset_df()"
   ]
  },
  {
   "cell_type": "code",
   "execution_count": null,
   "id": "dcb975a0-5fa5-4f62-a4f2-debbd7e2c9a2",
   "metadata": {},
   "outputs": [],
   "source": [
    "def plot_data(df, title='Stock prices'):\n",
    "    \"\"\"Plot stock prices\"\"\"\n",
    "    fig = plt.figure(figsize=(10,5), dpi=100)\n",
    "    ax = fig.add_subplot()\n",
    "    ax.plot(df)\n",
    "    plt.grid(color='blue', linestyle='--', linewidth=1, alpha=0.2)\n",
    "    plt.title(title)\n",
    "    ax.set_xlabel(\"Date\")\n",
    "    ax.set_ylabel(\"Price\")\n",
    "    ax.legend(df)\n",
    "    plt.show()\n",
    "    \n",
    "plot_data(df)"
   ]
  },
  {
   "cell_type": "markdown",
   "id": "54f8e2bf-f9c7-4f61-864f-0ba07c30d5a5",
   "metadata": {},
   "source": [
    "### Slice and plot two stocks"
   ]
  },
  {
   "cell_type": "code",
   "execution_count": null,
   "id": "4e87e449-903d-4d52-8f66-deae123cd9a5",
   "metadata": {},
   "outputs": [],
   "source": [
    "def plot_selected(df, columns, start_index, end_index):\n",
    "    \"\"\"PLot the desired columns over index values in the given range.\"\"\"\n",
    "    # Filter columns\n",
    "    df = df[columns]\n",
    "    \n",
    "    # Slice by row range\n",
    "    df = df[start_index:end_index]\n",
    "    \n",
    "    # Plot stock data\n",
    "    fig = plt.figure(figsize=(10,5), dpi=100)\n",
    "    ax = fig.add_subplot()\n",
    "    ax.plot(df)\n",
    "    plt.grid(color='blue', linestyle='--', linewidth=1, alpha=0.2)\n",
    "    plt.title(\"Stock prices\")\n",
    "    ax.set_xlabel(\"Date\")\n",
    "    ax.set_ylabel(\"Price\")\n",
    "    ax.legend(df)\n",
    "    plt.show()\n",
    "\n",
    "\n",
    "def test_run():\n",
    "    # Define a data range\n",
    "    dates = pd.date_range('2010-01-01', '2010-12-31') # year 2010\n",
    "    \n",
    "    # Choose stock symbols to read\n",
    "    symbols = ['GOOG', 'IBM', 'GLD']  # SPY will be added in get_data()\n",
    "    \n",
    "    # Get stock data\n",
    "    df = get_data(symbols=symbols, dates=dates)\n",
    "    \n",
    "    # Slice and plot\n",
    "    plot = plot_selected(df, ['SPY', 'IBM'], '2010-03-01', '2010-04-01')\n",
    "    return plot\n",
    "\n",
    "test_run()"
   ]
  },
  {
   "cell_type": "markdown",
   "id": "e69ce68a-1d95-42d6-b2fc-a285b192f9fe",
   "metadata": {},
   "source": [
    "### Normalizing"
   ]
  },
  {
   "cell_type": "code",
   "execution_count": null,
   "id": "e201d6c8-da87-430c-b03a-67de14e62e63",
   "metadata": {},
   "outputs": [],
   "source": [
    "def normalize_data(df):\n",
    "    \"\"\"Normalize stock prices using the first row of the DataFrame.\"\"\"\n",
    "    return df/df.iloc[0,:]\n",
    "\n",
    "# Reset DataFrame\n",
    "df = reset_df()\n",
    "norm_df = normalize_data(df)\n",
    "plot_data(norm_df)"
   ]
  },
  {
   "cell_type": "markdown",
   "id": "3ea585ea-ac61-498c-b6bc-1ff3b88bef6e",
   "metadata": {
    "tags": []
   },
   "source": [
    "## 01-03 The power of NumPy\n",
    "NumPy is a library designed for numeric computation that is warpped around underlying C code. This makes NumPy very fast. NumPy focuses on matrices, called arrays.\n",
    "\n",
    "Notation:\n",
    "- array[row, column]\n",
    "- array[0, 0]  # row 0, column 0\n",
    "- array[3, 2]  # row 3, column 2"
   ]
  },
  {
   "cell_type": "code",
   "execution_count": null,
   "id": "daae9bc7-8c9c-4059-9909-5295e231bba0",
   "metadata": {},
   "outputs": [],
   "source": [
    "import numpy as np"
   ]
  },
  {
   "cell_type": "code",
   "execution_count": null,
   "id": "397091ac-3bb1-4582-8948-c77af681ca24",
   "metadata": {},
   "outputs": [],
   "source": [
    "# Create a 5x5 matrix\n",
    "np.random.seed(42)  # seed for reproducibility\n",
    "matrix = np.random.randint(1,10, (5,5))\n",
    "matrix"
   ]
  },
  {
   "cell_type": "code",
   "execution_count": null,
   "id": "beb7e4e8-d728-454c-8161-cac0bd8a29af",
   "metadata": {},
   "outputs": [],
   "source": [
    "print(f\"1. matrix[0,0]: {matrix[0,0]}\")\n",
    "print(f\"2. matrix[3,2]: {matrix[3,2]}\")\n",
    "print(f\"3. matrix[0:3, 1:3]:\\n{matrix[0:3,1:3]}\")\n",
    "print(f\"4. matrix[:, 3]: {matrix[:,3]}\")\n",
    "print(f\"5. matrix[-1, 1:3]: {matrix[-1, 1:3]}\")"
   ]
  },
  {
   "cell_type": "markdown",
   "id": "e63906cb-63ec-47d8-881e-9c26df2735f6",
   "metadata": {},
   "source": [
    "### Replace a slice"
   ]
  },
  {
   "cell_type": "code",
   "execution_count": null,
   "id": "a91a1007-0d0c-414f-a507-5c46443e07ab",
   "metadata": {},
   "outputs": [],
   "source": [
    "nd1 = np.random.randint(1, 10, (4,4))\n",
    "nd2 = np.random.randint(1, 10, (4,4))\n",
    "print(f\"nd1:\\n{nd1}\\n\\nnd2:\\n{nd2}\\n\")\n",
    "\n",
    "# Replace nd1[0:2, 0:2] with nd2[-2:, 2:4]\n",
    "nd1[0:2, 0:2] = nd2[-2:, 2:4]\n",
    "print(f\"Replaced nd1:\\n{nd1}\")"
   ]
  },
  {
   "cell_type": "markdown",
   "id": "8af47ae4-ec6f-4028-be62-4989bfe89a18",
   "metadata": {},
   "source": [
    "### Creating NumPy arrays"
   ]
  },
  {
   "cell_type": "code",
   "execution_count": null,
   "id": "30839aee-0630-4373-802a-f387f2e7a72d",
   "metadata": {},
   "outputs": [],
   "source": [
    "def test_run():\n",
    "    # 1D and 2D arrays\n",
    "    nd1 = np.array([2, 3, 4])\n",
    "    nd2 = np.array([[2, 3, 4], [5, 6, 7]])\n",
    "    return nd1, nd2\n",
    "\n",
    "\n",
    "nd1, nd2 = test_run()\n",
    "print(f\"1D array: {nd1}\")\n",
    "print(f\"2D array:\\n{nd2}\")"
   ]
  },
  {
   "cell_type": "markdown",
   "id": "15a00dde-9cff-41e7-a9ae-a3663b36fd9a",
   "metadata": {},
   "source": [
    "### Arrays with initial values"
   ]
  },
  {
   "cell_type": "code",
   "execution_count": null,
   "id": "c13771ef-3656-42ed-a148-8142b5137c1d",
   "metadata": {},
   "outputs": [],
   "source": [
    "def test_run():\n",
    "    # Zero array\n",
    "    nd1 = np.empty(5)\n",
    "    nd2 = np.empty([5,4])\n",
    "    nd3 = np.empty([5,4,3])\n",
    "    return nd1, nd2, nd3\n",
    "\n",
    "\n",
    "nd1, nd2, nd3 = test_run()\n",
    "print(f\"1D array: {nd1}\")\n",
    "print(f\"2D array:\\n{nd2}\")\n",
    "print(f\"3D array:\\n{nd3}\")"
   ]
  },
  {
   "cell_type": "code",
   "execution_count": null,
   "id": "c835e800-a404-428d-bc50-dc5dcd6166f1",
   "metadata": {},
   "outputs": [],
   "source": [
    "def test_run():\n",
    "    # Array of 1s\n",
    "    return np.ones([5,4])\n",
    "\n",
    "\n",
    "test_run()"
   ]
  },
  {
   "cell_type": "markdown",
   "id": "f82c646f-3e7f-47f7-a7f9-5fc230323afd",
   "metadata": {},
   "source": [
    "### Specify the datatype"
   ]
  },
  {
   "cell_type": "code",
   "execution_count": null,
   "id": "63495492-955c-4c24-81b3-f31f03c7bb05",
   "metadata": {},
   "outputs": [],
   "source": [
    "def test_run():\n",
    "    # Array of 1s\n",
    "    return np.ones([5,4], dtype=np.int_)  # dtype=int\n",
    "\n",
    "\n",
    "test_run()"
   ]
  },
  {
   "cell_type": "markdown",
   "id": "63f8e086-f744-4038-ac01-bd5be4255079",
   "metadata": {},
   "source": [
    "### Generate random numbers"
   ]
  },
  {
   "cell_type": "code",
   "execution_count": null,
   "id": "19f7dc60-2109-40e7-8001-783782892a64",
   "metadata": {},
   "outputs": [],
   "source": [
    "def test_run():\n",
    "    # Generate an array full of random numbers, uniformly sampled from [0.0, 1.0]\n",
    "    nd1 = np.random.randn(5,4)\n",
    "    \n",
    "    # Array of Normal distribution\n",
    "    nd2 = np.random.normal(size=(2,3))  # zero mean, 1 standard deviation\n",
    "    nd3 = np.random.normal(50, 10, size=(2,3))  # 50 mean, 10 s.d.\n",
    "    \n",
    "    return nd1, nd2, nd3\n",
    "\n",
    "\n",
    "nd1, nd2, nd3 = test_run()\n",
    "print(f\"Random numbers uniformly sampled:\\n{nd1}\\n\")\n",
    "print(f\"Random numbers from normal distribution:\\n{nd2}\\n\")\n",
    "print(f\"Random numbers from normal distribution with 50 meand and 10 standard deviation:\\n{nd3}\")"
   ]
  },
  {
   "cell_type": "code",
   "execution_count": null,
   "id": "2bd59413-8959-4ba2-8dff-24bde6eb1fe7",
   "metadata": {},
   "outputs": [],
   "source": [
    "# Random integers\n",
    "def test_run():\n",
    "    print(f\"Single integer: {np.random.randint(10)}\")  # a single integer in [0,10]\n",
    "    print(f\"Single integer: {np.random.randint(0, 10)}\")  # same as above, specifying [low, high] explicitly\n",
    "    print(f\"1D array: {np.random.randint(0, 19, size=5)}\")  # 5 random integers as a 1D array\n",
    "    print(f\"2D array:\\n{np.random.randint(0, 10, size=(2,3))}\")  # 2x3 matrix of random integers\n",
    "    \n",
    "    \n",
    "test_run()"
   ]
  },
  {
   "cell_type": "markdown",
   "id": "9f49ddcb-93cc-4865-99a4-0a8098d12cc6",
   "metadata": {},
   "source": [
    "### Array attributes"
   ]
  },
  {
   "cell_type": "code",
   "execution_count": null,
   "id": "47ad6753-5a23-4c46-b728-bd2a8aab4973",
   "metadata": {},
   "outputs": [],
   "source": [
    "def test_run():\n",
    "    A = np.random.randn(5,4)  # 5x4 matrix of random numbers\n",
    "    shape = A.shape  # shape of matrix\n",
    "    size = A.size  # number of elements in the matrix\n",
    "    datatype = A.dtype  # datatype of matrix\n",
    "    \n",
    "    # Print array attributes\n",
    "    print(f\"Matrix:\\n{np.round(A,2)}\\n\")\n",
    "    print(f\"Shape of matrix: {shape}\")\n",
    "    print(f\"Size of matrix: {size}\")\n",
    "    print(f\"DataType of matrix: {datatype}\")\n",
    "\n",
    "    \n",
    "test_run()"
   ]
  },
  {
   "cell_type": "markdown",
   "id": "b4d55656-b308-4903-83af-7e80662b5b5b",
   "metadata": {},
   "source": [
    "### Operations on ndarrays"
   ]
  },
  {
   "cell_type": "code",
   "execution_count": null,
   "id": "08b53729-78d5-405f-b2f7-5dcae2c7b417",
   "metadata": {},
   "outputs": [],
   "source": [
    "def test_run():\n",
    "    np.random.seed(1)  # random seed used to reproduce numbers  \n",
    "    A = np.random.randint(0, 10, size=(5,4)) # 5x4 matrix of random integers in [0, 10]\n",
    "    print(f\"Matrix:\\n{A}\\n\")\n",
    "    \n",
    "    # Sum of all elements\n",
    "    sumA = np.sum(A)\n",
    "    print(f\"Sum of all elements in matrix: {sumA}\")\n",
    "    \n",
    "    # Iterate over rows, to compute sum of each column\n",
    "    rowSum = np.sum(A, axis=0)\n",
    "    print(f\"Sum of each column: {rowSum}\")\n",
    "    \n",
    "    # Iterate over columns, to compute sum of each row\n",
    "    colSum = np.sum(A, axis=1)\n",
    "    print(f\"Sum of each row: {colSum}\")\n",
    "    \n",
    "test_run()"
   ]
  },
  {
   "cell_type": "code",
   "execution_count": null,
   "id": "ee170488-ed1b-4d70-8a05-ef7531452b89",
   "metadata": {},
   "outputs": [],
   "source": [
    "def test_run():\n",
    "    np.random.seed(1)  # random seed used to reproduce numbers\n",
    "    A = np.random.randint(0, 10, size=(5,4)) # 5x4 matrix of random integers in [0, 10]\n",
    "    print(f\"Matrix:\\n{A}\\n\")\n",
    "    \n",
    "    # Statistics: min, max, mean (across rows, cols, and overall)\n",
    "    minCol = np.min(A, axis=0)\n",
    "    maxRow = np.max(A, axis=1)\n",
    "    mean_A = np.mean(A)\n",
    "    print(f\"Minimum of each column: {minCol}\")\n",
    "    print(f\"Maximum of each row: {maxRow}\")\n",
    "    print(f\"Mean of all elements: {mean_A}\")\n",
    "    \n",
    "test_run()"
   ]
  },
  {
   "cell_type": "markdown",
   "id": "ed1c7428-f021-47cf-9fb4-dd1366ed4341",
   "metadata": {},
   "source": [
    "### Locate maximum value"
   ]
  },
  {
   "cell_type": "code",
   "execution_count": null,
   "id": "26b57aec-2572-4083-8ad5-2f6128edee65",
   "metadata": {},
   "outputs": [],
   "source": [
    "def get_max_index(array):\n",
    "    \"\"\"Return the index of the maximum value in given 1D array\"\"\"\n",
    "    maxVal = np.max(array)\n",
    "    return maxVal, np.argmax(array)\n",
    "\n",
    "def test_run():\n",
    "    A = np.array([9, 6, 2, 3, 12, 14, 7, 10], dtype=np.int32) # 32-bit integer array\n",
    "    print(f\"Matrix: {A}\")\n",
    "    \n",
    "    # Find the maximum and its index in array\n",
    "    maxVal, idx = get_max_index(array=A)\n",
    "    print(f\"Maximum value: {maxVal}\")\n",
    "    print(f\"Index of max value: {idx}\")\n",
    "    \n",
    "test_run()"
   ]
  },
  {
   "cell_type": "markdown",
   "id": "7169595f-e431-4c18-8636-487feae1e00d",
   "metadata": {},
   "source": [
    "### Timing python operations"
   ]
  },
  {
   "cell_type": "code",
   "execution_count": null,
   "id": "053281e5-90df-4890-a958-8d1d2b0c3c7c",
   "metadata": {},
   "outputs": [],
   "source": [
    "import time"
   ]
  },
  {
   "cell_type": "code",
   "execution_count": null,
   "id": "75c7b7d3-9e72-4d8f-aad3-f0f95aafefc3",
   "metadata": {},
   "outputs": [],
   "source": [
    "def test_run():\n",
    "    t1 = time.time()\n",
    "    print('ML4T')\n",
    "    t2 = time.time()\n",
    "    print(f\"The time taken to print the statement is {t2-t1} seconds.\")\n",
    "    \n",
    "test_run()"
   ]
  },
  {
   "cell_type": "markdown",
   "id": "f22a4eef-8704-4f85-b2cf-112fcaf971e8",
   "metadata": {},
   "source": [
    "### How fast is NumPy?"
   ]
  },
  {
   "cell_type": "code",
   "execution_count": null,
   "id": "a051ee37-a62c-4222-8dfb-63aafefc2b67",
   "metadata": {},
   "outputs": [],
   "source": [
    "def manual_mean(arr):\n",
    "    \"\"\"Compute mean (average) of all elements in the given 2D array.\"\"\"\n",
    "    summ = 0\n",
    "    for i in range(0, arr.shape[0]):\n",
    "        for j in range(0, arr.shape[1]):\n",
    "            summ += arr[i][j]\n",
    "    return summ / arr.size\n",
    "    \n",
    "def numpy_mean(arr):\n",
    "    \"\"\"Compute mean (average) using NumPy.\"\"\"\n",
    "    return np.mean(arr)\n",
    "\n",
    "def how_long(func, *args):\n",
    "    \"\"\"Comptue how long it takes to perform computations.\"\"\"\n",
    "    t1 = time.time()\n",
    "    mean = func(*args)\n",
    "    t2 = time.time()\n",
    "    total_time = t2 - t1\n",
    "    return mean, total_time\n",
    "\n",
    "\n",
    "def test_run():\n",
    "    nd1 = 20*np.random.randn(1000, 10000) # create a large matrix\n",
    "    \n",
    "    # Time the two functions, retrieving results and execution times\n",
    "    res_manual, t_manual = how_long(manual_mean, nd1)\n",
    "    res_numpy, t_numpy = how_long(numpy_mean, nd1)\n",
    "    print(f\"Manual {np.round(res_manual, 3)} ({np.round(t_manual, 3)} secs.) vs.\",\n",
    "          f\"NumPy {np.round(res_numpy, 3)} ({np.round(t_numpy, 3)}) secs.\")\n",
    "    \n",
    "    # Make sure both give us the same answer (up to some precision)\n",
    "    assert abs(res_manual - res_numpy) <= 10e-6, \"Results are't equal!\"\n",
    "    \n",
    "    # Compute speedup\n",
    "    speedup = t_manual / t_numpy\n",
    "    print(f\"NumPy mean is {np.round(speedup, 2)} times faster than manual for loops.\")\n",
    "    \n",
    "test_run()"
   ]
  },
  {
   "cell_type": "markdown",
   "id": "006cefdb-389b-468b-90fa-1bcb0ea5dac3",
   "metadata": {},
   "source": [
    "### Accessing array elements"
   ]
  },
  {
   "cell_type": "code",
   "execution_count": null,
   "id": "52b850a4-ca35-417b-b4b5-ef8bc01e4db7",
   "metadata": {},
   "outputs": [],
   "source": [
    "def test_run():\n",
    "    np.random.seed(1)\n",
    "    A = np.random.randint(0, 10, size=(4,4))\n",
    "    print(f\"Matrix:\\n{A}\\n\")\n",
    "    \n",
    "    # Accessing element at position (3,2)\n",
    "    elem = A[3, 2]\n",
    "    print(f\"Element at position (3,2): {elem}\")\n",
    "    \n",
    "    # Elements in defined range\n",
    "    elemRng = A[0, 1:3]\n",
    "    print(f\"Elements in defined range: {elemRng}\")\n",
    "    \n",
    "    # Top-left corner\n",
    "    left = A[0:2, 0:2]\n",
    "    print(f\"Top-left corner:\\n{left}\")\n",
    "    \n",
    "    # Slicing\n",
    "    # Note: Slice n:m:t specifies a range that starts at n, and stops before m, in t steps\n",
    "    cols = A[:, 0:3:2]\n",
    "    print(f\"Columns 0, 2 for every row:\\n{cols}\")\n",
    "\n",
    "test_run()"
   ]
  },
  {
   "cell_type": "markdown",
   "id": "37f0124e-7526-4053-86c5-5ee2774cb51d",
   "metadata": {},
   "source": [
    "### Modifying array elements"
   ]
  },
  {
   "cell_type": "code",
   "execution_count": null,
   "id": "093f50f6-da5d-4ac7-9eda-db2ae726d761",
   "metadata": {},
   "outputs": [],
   "source": [
    "def test_run():\n",
    "    np.random.seed(1)\n",
    "    A = np.random.randint(0, 10, size=(4,4))\n",
    "    print(f\"Matrix:\\n{A}\\n\")\n",
    "    \n",
    "    # Assigning a single value to an entire row\n",
    "    rowA = A.copy()\n",
    "    rowA[0, :] = 2\n",
    "    print(f\"Modified (replaced first row with a single value):\\n{rowA}\\n\")\n",
    "    \n",
    "    # Assigning a list to a column in an array\n",
    "    colA = A.copy()\n",
    "    colA[:, 3] = [71, 72, 73, 74]\n",
    "    print(f\"Modified (replaced fourth column with a list):\\n{colA}\")\n",
    "    \n",
    "test_run()"
   ]
  },
  {
   "cell_type": "markdown",
   "id": "2dfffb9b-e5ba-4cfa-bd64-6ee6b9d42a7f",
   "metadata": {},
   "source": [
    "### Indexing and array with another array"
   ]
  },
  {
   "cell_type": "code",
   "execution_count": null,
   "id": "e4a86852-8f86-4f1d-a79e-2b00f460c124",
   "metadata": {},
   "outputs": [],
   "source": [
    "def test_run():\n",
    "    np.random.seed(1)\n",
    "    A = np.random.randint(0, 10, size=(4,4))\n",
    "    print(f\"Matrix:\\n{A}\\n\")\n",
    "    \n",
    "    # Accessing rows using list of indices\n",
    "    indices = np.array([1,1,2,3])\n",
    "    print(f\"Indices:\\n{A[indices]}\")\n",
    "    \n",
    "test_run()"
   ]
  },
  {
   "cell_type": "markdown",
   "id": "6a72f18e-8f49-41db-bdb4-82851b7cf5f2",
   "metadata": {},
   "source": [
    "### Boolean or \"mask\" index arrays"
   ]
  },
  {
   "cell_type": "code",
   "execution_count": null,
   "id": "adf25d72-cbbb-4a7f-9179-0b48d5b5042e",
   "metadata": {},
   "outputs": [],
   "source": [
    "def test_run():\n",
    "    A = np.array([[20, 25, 10, 23, 26, 32, 10, 5, 0], [0, 2, 50, 20, 0, 1, 28, 5, 0]])\n",
    "    print(f\"Matrix:\\n{A}\\n\")\n",
    "    \n",
    "    # Compute mean\n",
    "    mean = np.mean(A)\n",
    "    print(f\"Mean: {np.round(mean, 3)}\")\n",
    "    \n",
    "    # Masking\n",
    "    print(f\"Masking: {A[A<mean]}\")\n",
    "    \n",
    "    # Masking\n",
    "    A[A<mean] = mean\n",
    "    print(f\"Modified matrix using masking:\\n{A}\\n\")\n",
    "    \n",
    "test_run()"
   ]
  },
  {
   "cell_type": "markdown",
   "id": "36f8228f-b37c-4d64-a076-55de1f100276",
   "metadata": {},
   "source": [
    "### Arithmetic operations"
   ]
  },
  {
   "cell_type": "code",
   "execution_count": null,
   "id": "d4a88afd-0aaf-4e93-88c1-c76c710bb7eb",
   "metadata": {},
   "outputs": [],
   "source": [
    "def test_run():\n",
    "    A = np.array([[1,2,3,4,5], [10,20,30,40,50]])\n",
    "    print(f\"Matrix A:\\n{A}\\n\")\n",
    "    \n",
    "    # Divide matrix A by 2\n",
    "    div = A/2\n",
    "    print(f\"Matrix A divided by 2:\\n{div}\\n\")\n",
    "    \n",
    "    # Create matrix B\n",
    "    B = np.array([[100,200,300,400,500], [1,2,3,4,5]])\n",
    "    print(f\"Matrix B:\\n{B}\\n\")\n",
    "    \n",
    "    # Add two matrices\n",
    "    add = A + B\n",
    "    print(f\"A + B:\\n{add}\\n\")\n",
    "    \n",
    "    # Divide A by B\n",
    "    div = A / B\n",
    "    print(f\"A / B:\\n{div}\\n\")\n",
    "    \n",
    "    # Multiply A and B\n",
    "    mult = A * B\n",
    "    print(f\"A * B:\\n{mult}\\n\")\n",
    "    \n",
    "    # Matrix multiplication\n",
    "    dotAT = A.T @ B # result will be a 5x5 matrix\n",
    "    dotBT = A @ B.T # result will be a 2x2 matrix\n",
    "    print(f\"A.T@B:\\n{dotAT}\\n\")\n",
    "    print(f\"A@B.T:\\n{dotBT}\")\n",
    "    \n",
    "    \n",
    "test_run()"
   ]
  },
  {
   "cell_type": "markdown",
   "id": "7eeedc75-8426-43f2-a2d8-8482ee1dd4fa",
   "metadata": {
    "tags": []
   },
   "source": [
    "## 01-04 Statistical analysis of time series"
   ]
  },
  {
   "cell_type": "markdown",
   "id": "e41d5f5e-ff67-433e-af40-1f9de2e43159",
   "metadata": {},
   "source": [
    "### Compute global statistics"
   ]
  },
  {
   "cell_type": "code",
   "execution_count": null,
   "id": "dbf08922-dd3c-4c40-b675-804893b93a5c",
   "metadata": {},
   "outputs": [],
   "source": [
    "def test_run():\n",
    "    # Read data\n",
    "    dates = pd.date_range('2010-01-01', '2012-12-31')\n",
    "    symbols = ['SPY', 'XOM', 'GOOG', 'GLD']\n",
    "    df = get_data(symbols, dates)\n",
    "    plot_data(df)\n",
    "    \n",
    "    # Compute global statistics for each stock\n",
    "    mean = df.mean()\n",
    "    median = df.median()\n",
    "    std = df.std()\n",
    "    \n",
    "    print(f\"Stock mean prices:\\n{mean}\\n\")\n",
    "    print(f\"Stock mean prices:\\n{median}\\n\")\n",
    "    print(f\"Stock mean prices:\\n{std}\\n\")\n",
    "\n",
    "    \n",
    "test_run()"
   ]
  },
  {
   "cell_type": "markdown",
   "id": "19af8443-bc66-4f68-babc-cd3134d99739",
   "metadata": {},
   "source": [
    "### Computing rolling statistics"
   ]
  },
  {
   "cell_type": "code",
   "execution_count": null,
   "id": "9a22313d-f923-4924-a5a3-d226de48484c",
   "metadata": {},
   "outputs": [],
   "source": [
    "def plot_selected(df, columns, start_index, end_index):\n",
    "    \"\"\"PLot the desired columns over index values in the given range.\"\"\"\n",
    "    # Filter columns\n",
    "    df = df[columns]\n",
    "    \n",
    "    # Slice by row range\n",
    "    df = df[start_index:end_index]\n",
    "    \n",
    "    # Plot stock data\n",
    "    fig = plt.figure(figsize=(10,5), dpi=100)\n",
    "    ax = fig.add_subplot()\n",
    "    ax.plot(df)\n",
    "    plt.title(\"Stock prices\")\n",
    "    ax.set_xlabel(\"Date\")\n",
    "    ax.set_ylabel(\"Price\")\n",
    "    ax.legend(df)\n",
    "    plt.show()\n",
    "\n",
    "def test_run():\n",
    "    # Read data\n",
    "    dates = pd.date_range('2012-01-01', '2012-12-31')\n",
    "    symbols = ['SPY']\n",
    "    df = get_data(symbols, dates)\n",
    "    \n",
    "    # Plot SPY data, retain matplotlib axis object\n",
    "    fig = plt.figure(figsize=(10,5), dpi=100)\n",
    "    ax = df['SPY'].plot(title='SPY rolling mean', label='SPY')\n",
    "    \n",
    "    # Compute rolling mean using a 20-day window\n",
    "    rmSPY = df.rolling(window=20).mean()\n",
    "    \n",
    "    # Add rolling mean to the same plot\n",
    "    rmSPY.plot(label='Rolling mean', ax=ax)\n",
    "    \n",
    "    # Add axis labels and legend\n",
    "    ax.set_xlabel('Date')\n",
    "    ax.set_ylabel('Price')\n",
    "    ax.legend(loc='upper left')\n",
    "    plt.grid(color='blue', linestyle='--', linewidth=1, alpha=0.2)\n",
    "    plt.show()\n",
    "    \n",
    "    \n",
    "test_run()"
   ]
  },
  {
   "cell_type": "markdown",
   "id": "96458eba-a6f4-41a9-b3f0-278e4cf421a3",
   "metadata": {},
   "source": [
    "### Compute Bollinger Bands"
   ]
  },
  {
   "cell_type": "code",
   "execution_count": null,
   "id": "21cffa5c-58c5-469c-a67a-ce365c80fdeb",
   "metadata": {},
   "outputs": [],
   "source": [
    "def get_rolling_mean(df, window):\n",
    "    \"\"\"Return rolling mean of given values, using specified window size.\"\"\"\n",
    "    rm = df.rolling(window=window).mean()\n",
    "    return rm\n",
    "\n",
    "def get_rolling_std(df, window):\n",
    "    \"\"\"Return rolling standard deviation of given values, using specified window size.\"\"\"\n",
    "    rstd = df.rolling(window=window).std()\n",
    "    return rstd\n",
    "\n",
    "def get_bollinger_bands(rm, rstd):\n",
    "    \"\"\"Return upper and lower Bollinger Bands.\"\"\"\n",
    "    upper_band = rm + (rstd * 2)\n",
    "    lower_band = rm - (rstd * 2)\n",
    "    return upper_band, lower_band\n",
    "\n",
    "\n",
    "def test_run():\n",
    "    # Read data\n",
    "    dates = pd.date_range('2012-01-01', '2012-12-31')\n",
    "    symbols = ['SPY']\n",
    "    df = get_data(symbols, dates)\n",
    "    \n",
    "    # Compute Bollinger Bands\n",
    "    # 1. Compute rolling mean\n",
    "    rm_SPY = get_rolling_mean(df=df['SPY'], window=20)\n",
    "    \n",
    "    # 2. Compute rolling standard deviation\n",
    "    rstd_SPY = get_rolling_std(df=df['SPY'], window=20)\n",
    "    \n",
    "    # 3. Compute upper and lower bands\n",
    "    upper_band, lower_band = get_bollinger_bands(rm_SPY, rstd_SPY)\n",
    "    \n",
    "    # Plot SPY data, retain matplotlib axis object\n",
    "    plt.figure(figsize=(10,6), dpi=100)\n",
    "    ax = plt.plot(df, label='SPY')\n",
    "    rm_plt = plt.plot(rm_SPY, label='Rolling Mean')\n",
    "    upper = plt.plot(upper_band, label='Upper Band')\n",
    "    lower = plt.plot(lower_band, label='Lower Band')\n",
    "    plt.title('Rolling Mean & Standard Deviation')\n",
    "    plt.xlabel(\"Date\")\n",
    "    plt.ylabel(\"Price\", rotation=0, labelpad=20)\n",
    "    plt.grid(color='blue', linestyle='--', linewidth=1, alpha=0.2)\n",
    "    plt.legend(loc=\"best\")\n",
    "    # plt.show(block=False)\n",
    "    plt.show()\n",
    "    \n",
    "test_run()"
   ]
  },
  {
   "cell_type": "markdown",
   "id": "61d37da8-1e1b-46e4-a70a-56dc2f853f89",
   "metadata": {},
   "source": [
    "### Compute daily returns"
   ]
  },
  {
   "cell_type": "code",
   "execution_count": null,
   "id": "ddd99f49-f30f-4d28-9f6e-2a5e54b06f62",
   "metadata": {},
   "outputs": [],
   "source": [
    "def compute_daily_returns(df):\n",
    "    \"\"\"Compute and return the daily return values.\"\"\"\n",
    "    daily_returns = df.copy()\n",
    "    \n",
    "    # Compute daily returns for row 1 onwards\n",
    "    # daily_returns[1:] = (df[1:]/df[:-1].values) - 1\n",
    "    daily_returns = (df / df.shift(1)) - 1\n",
    "    daily_returns.iloc[0,:] = 0 # set daily returns for row 0 to 0\n",
    "    return daily_returns\n",
    "\n",
    "def test_run():\n",
    "    # Read data\n",
    "    dates = pd.date_range('2012-07-01', '2012-07-31')\n",
    "    symbols = ['SPY', 'XOM']\n",
    "    df = get_data(symbols, dates)\n",
    "    plot_data(df)\n",
    "    \n",
    "    # Compute daily returns\n",
    "    daily_returns = compute_daily_returns(df)\n",
    "    plot_data(daily_returns, title='Daily Returns')\n",
    "    \n",
    "    \n",
    "test_run()"
   ]
  },
  {
   "cell_type": "markdown",
   "id": "3320171f-bd6d-4b3b-9b01-fc00634f5500",
   "metadata": {},
   "source": [
    "### Cumulative returns"
   ]
  },
  {
   "cell_type": "code",
   "execution_count": null,
   "id": "e447c0de-d824-4b3a-bba1-4165f8e39d5e",
   "metadata": {},
   "outputs": [],
   "source": [
    "def compute_cummulative_returns(df):\n",
    "    \"\"\"Compute and return the daily return values.\"\"\"\n",
    "    cummm_returns = df.copy()\n",
    "    \n",
    "    # Compute cummulative returns for entire month\n",
    "    cummm_returns = (df / df.iloc[0]) - 1\n",
    "    cummm_returns.iloc[0,:] = 0 # set daily returns for row 0 to 0\n",
    "    return cummm_returns\n",
    "\n",
    "def test_run():\n",
    "    # Read data\n",
    "    dates = pd.date_range('2012-01-01', '2012-12-31')\n",
    "    symbols = ['SPY']\n",
    "    df = get_data(symbols, dates)\n",
    "    plot_data(df)\n",
    "    \n",
    "    # Compute cummulative returns\n",
    "    cumm_returns = compute_cummulative_returns(df)\n",
    "    plot_data(cumm_returns, title='Cummulative Returns')\n",
    "    plt.scatter(cumm_returns.iloc[-1])\n",
    "    \n",
    "test_run()"
   ]
  },
  {
   "cell_type": "code",
   "execution_count": null,
   "id": "805a127b-401a-497e-8d2f-9774a8185e3f",
   "metadata": {},
   "outputs": [],
   "source": [
    "# Read data\n",
    "dates = pd.date_range('2012-01-01', '2012-12-31')\n",
    "symbols = ['SPY']\n",
    "df = get_data(symbols, dates)\n",
    "# plot_data(df)\n",
    "cumm_returns = compute_cummulative_returns(df)"
   ]
  },
  {
   "cell_type": "code",
   "execution_count": null,
   "id": "6e09b163-d199-4e60-8681-b6f43bbde40e",
   "metadata": {},
   "outputs": [],
   "source": [
    "cumm_returns.iloc[-1]"
   ]
  },
  {
   "cell_type": "code",
   "execution_count": null,
   "id": "fbc5f28b-50de-46c4-80e7-4f64872b43ff",
   "metadata": {},
   "outputs": [],
   "source": []
  }
 ],
 "metadata": {
  "kernelspec": {
   "display_name": "Python 3 (ipykernel)",
   "language": "python",
   "name": "python3"
  },
  "language_info": {
   "codemirror_mode": {
    "name": "ipython",
    "version": 3
   },
   "file_extension": ".py",
   "mimetype": "text/x-python",
   "name": "python",
   "nbconvert_exporter": "python",
   "pygments_lexer": "ipython3",
   "version": "3.9.12"
  }
 },
 "nbformat": 4,
 "nbformat_minor": 5
}
