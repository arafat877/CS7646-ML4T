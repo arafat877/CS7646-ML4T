{
 "cells": [
  {
   "cell_type": "markdown",
   "id": "b60ca766-185d-4cbb-a659-6230a2720161",
   "metadata": {},
   "source": [
    "# CS 7646: Machine Learning for Trading\n",
    "## Week 3 - 09/05/2022\n",
    "### Lessons: 01-09, 03-01, 03-02"
   ]
  },
  {
   "cell_type": "code",
   "execution_count": 1,
   "id": "1127623e-3284-40ba-8cc3-cf6b7e720919",
   "metadata": {},
   "outputs": [],
   "source": [
    "import numpy as np\n",
    "import pandas as pd\n",
    "import matplotlib.pyplot as plt"
   ]
  },
  {
   "cell_type": "code",
   "execution_count": 2,
   "id": "469234b8-2eb1-401c-9e11-91c07d7af005",
   "metadata": {},
   "outputs": [],
   "source": [
    "data_dir = \"../data/\""
   ]
  },
  {
   "cell_type": "markdown",
   "id": "9e555fcd-6294-4d99-865d-12ebdbcddf0a",
   "metadata": {},
   "source": [
    "## 01-09 Optimizers: How to optimize a portfolio"
   ]
  },
  {
   "cell_type": "code",
   "execution_count": null,
   "id": "80b9b960-c5a7-43a5-9da0-d992165192e8",
   "metadata": {},
   "outputs": [],
   "source": []
  }
 ],
 "metadata": {
  "kernelspec": {
   "display_name": "Python 3 (ipykernel)",
   "language": "python",
   "name": "python3"
  },
  "language_info": {
   "codemirror_mode": {
    "name": "ipython",
    "version": 3
   },
   "file_extension": ".py",
   "mimetype": "text/x-python",
   "name": "python",
   "nbconvert_exporter": "python",
   "pygments_lexer": "ipython3",
   "version": "3.9.12"
  }
 },
 "nbformat": 4,
 "nbformat_minor": 5
}
