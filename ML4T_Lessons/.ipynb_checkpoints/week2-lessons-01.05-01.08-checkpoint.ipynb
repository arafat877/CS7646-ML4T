{
 "cells": [
  {
   "cell_type": "markdown",
   "id": "682f5b75-7b43-4711-bf72-28b9f39ec832",
   "metadata": {
    "tags": []
   },
   "source": [
    "# CS 7646: Machine Learning for Trading\n",
    "## Week 2 - 08/29/2022\n",
    "### Lessons: 01-05 to 01-08"
   ]
  },
  {
   "cell_type": "code",
   "execution_count": null,
   "id": "f2bc2b85-6209-4097-897c-78c751657f4c",
   "metadata": {},
   "outputs": [],
   "source": [
    "import numpy as np\n",
    "import pandas as pd\n",
    "import matplotlib.pyplot as plt\n",
    "import os"
   ]
  },
  {
   "cell_type": "code",
   "execution_count": null,
   "id": "7f60c10a-ec09-4d2d-ab76-8d2449efcfe1",
   "metadata": {},
   "outputs": [],
   "source": [
    "data_dir = \"../data/\""
   ]
  },
  {
   "cell_type": "markdown",
   "id": "70451d2f-a401-4206-bb40-c3e9b7342ebc",
   "metadata": {
    "jp-MarkdownHeadingCollapsed": true,
    "tags": []
   },
   "source": [
    "## 01-05 Incomplete data"
   ]
  },
  {
   "cell_type": "markdown",
   "id": "d8b5810c-5520-44c7-ac34-55847e8ff374",
   "metadata": {},
   "source": [
    "### Pristine data\n",
    "\n",
    "What people think:\n",
    "- Perfect data recorded minute by minute.\n",
    "- No gaps or missing data points.\n",
    "\n",
    "Reality:\n",
    "- Data is an amalgamation.\n",
    "- Not all stocks trade every day."
   ]
  },
  {
   "cell_type": "markdown",
   "id": "aad03dbb-ed03-480a-bddf-9cd62bb8833d",
   "metadata": {},
   "source": [
    "### Why data goes missing?"
   ]
  },
  {
   "cell_type": "code",
   "execution_count": null,
   "id": "b6dc0a4d-8bd3-43c3-bac3-1b710bc0df31",
   "metadata": {},
   "outputs": [],
   "source": [
    "def symbol_to_path(symbol, base_dir=data_dir):\n",
    "    \"\"\"Return CSV file path given ticker symbol.\"\"\"\n",
    "    return os.path.join(base_dir, f\"{str(symbol)}.csv\")\n",
    "\n",
    "\n",
    "def get_data(symbols, dates):\n",
    "    \"\"\"Read stock data (adjusted close) for given symbols from CSV files.\"\"\"\n",
    "    df = pd.DataFrame(index=dates)\n",
    "    if 'SPY' not in symbols:  # add SPY for reference, if absent\n",
    "        symbols.insert(0, 'SPY')\n",
    "    \n",
    "    for symbol in symbols:\n",
    "        df_temp = pd.read_csv(f\"{symbol_to_path(symbol)}\",\n",
    "                              index_col='Date',\n",
    "                              parse_dates=True,\n",
    "                              usecols=['Date', 'Adj Close'],\n",
    "                              na_values=['nan'])\n",
    "        df_temp = df_temp.rename(columns={'Adj Close': symbol})\n",
    "        df = df.join(df_temp)  # use default how='left'\n",
    "        if symbol == 'SPY':\n",
    "            df = df.dropna(subset=['SPY'])\n",
    "        \n",
    "    return df"
   ]
  },
  {
   "cell_type": "code",
   "execution_count": null,
   "id": "bd690721-3f43-4bea-80c0-0acea0021eb0",
   "metadata": {},
   "outputs": [],
   "source": [
    "def plot_selected(df, columns, start_index, end_index):\n",
    "    \"\"\"PLot the desired columns over index values in the given range.\"\"\"\n",
    "    # Filter columns\n",
    "    df = df[columns]\n",
    "    \n",
    "    # Slice by row range\n",
    "    df = df[start_index:end_index]\n",
    "    \n",
    "    # Plot stock data\n",
    "    plt.figure(figsize=(10,5), dpi=200)\n",
    "    plt.plot(df)\n",
    "    plt.grid(color='blue', linestyle='--', linewidth=1, alpha=0.2)\n",
    "    plt.title(\"Stock prices\")\n",
    "    plt.xlabel(\"Date\")\n",
    "    plt.ylabel(\"Price\")\n",
    "    plt.legend(df)\n",
    "    plt.show()\n",
    "    \n",
    "    \n",
    "def test_run():\n",
    "    # Define a data range\n",
    "    dates = pd.date_range('2005-01-01', '2012-12-31') # year 2010\n",
    "    \n",
    "    # Choose stock symbols to read\n",
    "    symbols = ['SPY', 'JAVA']  # SPY will be added in get_data()\n",
    "    \n",
    "    # Get stock data\n",
    "    df = get_data(symbols=symbols, dates=dates)\n",
    "    \n",
    "    # Slice and plot\n",
    "    plot = plot_selected(df, symbols, '2005-01-01', '2012-12-31')\n",
    "    return plot\n",
    "\n",
    "test_run()"
   ]
  },
  {
   "cell_type": "markdown",
   "id": "76de617d-20ba-4199-a3f8-1ab4540c6c03",
   "metadata": {},
   "source": [
    "### Why this is bad - what can we do?\n",
    "1. Fill forward from last previous known value.\n",
    "2. Can't use interpolation since we would be giving information about the future (not allowed).\n",
    "3. Fill backward after filling forward."
   ]
  },
  {
   "cell_type": "markdown",
   "id": "98f5d027-46d2-4e3a-ba66-97375baa3b36",
   "metadata": {},
   "source": [
    "### Pandas fillna()\n",
    "Fill forward missing values.\n",
    "`df.fillna(method=\"ffill\")`"
   ]
  },
  {
   "cell_type": "code",
   "execution_count": null,
   "id": "79652da4-e084-4b44-b589-4ea1bc88c82a",
   "metadata": {},
   "outputs": [],
   "source": [
    "def plot_data(df, title='Stock prices', xlabel='Date', ylabel='Price'):\n",
    "    plt.figure(figsize=(10,5), dpi=200)\n",
    "    plt.plot(df)\n",
    "    plt.grid(color='blue', linestyle='--', linewidth=1, alpha=0.2)\n",
    "    plt.title(title)\n",
    "    plt.xlabel(xlabel)\n",
    "    plt.ylabel(ylabel)\n",
    "    plt.legend(df)\n",
    "    plt.show()\n",
    "\n",
    "\n",
    "def test_run():\n",
    "    # Define a data range\n",
    "    start, end = '2005-12-31', '2014-12-07'\n",
    "    dates = pd.date_range(start, end) # year 2010\n",
    "    \n",
    "    # Choose stock symbols to read\n",
    "    symbols = ['SPY', 'FAKE2']  # SPY will be added in get_data()\n",
    "    \n",
    "    # Get stock data\n",
    "    df = get_data(symbols=symbols, dates=dates)\n",
    "    df.fillna(method=\"ffill\", inplace=True)\n",
    "    \n",
    "    # Plot data\n",
    "    plot = plot_data(df, title='Incomplete Data')\n",
    "    return plot\n",
    "\n",
    "test_run()"
   ]
  },
  {
   "cell_type": "markdown",
   "id": "9dab3aa3-915d-4818-bf2b-8fa165df17f8",
   "metadata": {},
   "source": [
    "### Fill missing values"
   ]
  },
  {
   "cell_type": "code",
   "execution_count": null,
   "id": "0c313201-dee2-40f0-8f94-c40158fee356",
   "metadata": {},
   "outputs": [],
   "source": [
    "def test_run():\n",
    "    # Define a data range\n",
    "    start, end = '2005-12-31', '2014-12-07'\n",
    "    dates = pd.date_range(start, end) # year 2010\n",
    "    \n",
    "    # Choose stock symbols to read\n",
    "    symbols = ['JAVA', 'FAKE1', 'FAKE2']  # SPY will be added in get_data()\n",
    "    \n",
    "    # Get stock data\n",
    "    df = get_data(symbols=symbols, dates=dates)\n",
    "    df.fillna(method=\"ffill\", inplace=True)\n",
    "    df.fillna(method='bfill', inplace=True)\n",
    "    \n",
    "    # Slice and plot\n",
    "    plot = plot_data(df)\n",
    "    return plot\n",
    "\n",
    "test_run()"
   ]
  },
  {
   "cell_type": "markdown",
   "id": "5abd1766-d99f-4b12-91ef-c1d8fcd1c124",
   "metadata": {
    "tags": []
   },
   "source": [
    "## 01-06 Histograms and scatterplots"
   ]
  },
  {
   "cell_type": "markdown",
   "id": "761e519d-c6ff-463d-b673-0588f692f840",
   "metadata": {},
   "source": [
    "### Histogram of daily returns\n",
    "- **Standard deviation:** on average, how far the individual values **deviate** from the mean.\n",
    "- **Mean:** average value\n",
    "- **Kurtosis:**\n",
    "    - Fat tail (+)\n",
    "    - Skinny tail (-)"
   ]
  },
  {
   "cell_type": "markdown",
   "id": "f0d3d55c-daf6-4c6e-a4ea-7a7ff2220f1f",
   "metadata": {},
   "source": [
    "### How to plot a histogram"
   ]
  },
  {
   "cell_type": "code",
   "execution_count": null,
   "id": "08e53002-ba10-4cc9-bb1f-81a01cc2a48c",
   "metadata": {},
   "outputs": [],
   "source": [
    "def compute_daily_returns(df):\n",
    "    \"\"\"Compute and return the daily return values.\"\"\"\n",
    "    daily_returns = df.copy()\n",
    "    daily_returns[1:] = (df.iloc[1:] / df.iloc[:-1].values) - 1\n",
    "    daily_returns.iloc[0, :] = 0\n",
    "    return daily_returns\n",
    "\n",
    "def plot_hist(df, bins=10, title='Histogram', xlabel='Returns', ylabel='Frequency'):\n",
    "    plt.figure(figsize=(10,5), dpi=200)\n",
    "    plt.hist(df, bins=bins, edgecolor='black')\n",
    "    plt.grid(color='blue', linestyle='--', linewidth=1, alpha=0.2)\n",
    "    plt.title(title)\n",
    "    plt.xlabel(xlabel)\n",
    "    plt.ylabel(ylabel)\n",
    "    plt.legend(df)\n",
    "    plt.show()\n",
    "    \n",
    "\n",
    "def test_run():\n",
    "    # Define a data range\n",
    "    start, end = '2009-01-01', '2012-12-31'\n",
    "    dates = pd.date_range(start, end) # year 2010\n",
    "    \n",
    "    # Choose stock symbols to read\n",
    "    symbols = ['SPY']  # SPY will be added in get_data()\n",
    "    \n",
    "    # Get stock data\n",
    "    df = get_data(symbols=symbols, dates=dates)\n",
    "    \n",
    "    # Plot data\n",
    "    plot_data(df, title='Stock price')\n",
    "    \n",
    "    # Compute daily returns\n",
    "    daily_returns = compute_daily_returns(df)\n",
    "    plot_data(daily_returns, title='Daily returns', xlabel='Date', ylabel='Daily returns')\n",
    "    \n",
    "    # Plot a histogram\n",
    "    plot_hist(daily_returns, bins=20, xlabel='Returns', ylabel='Frequency') # default bins = 10\n",
    "    \n",
    "test_run()"
   ]
  },
  {
   "cell_type": "markdown",
   "id": "f6b9e5c0-e03a-4024-b3d6-d55140fa414d",
   "metadata": {},
   "source": [
    "### Computing histogram statistics"
   ]
  },
  {
   "cell_type": "code",
   "execution_count": null,
   "id": "997528e5-f749-4682-899e-6770b040a5c8",
   "metadata": {},
   "outputs": [],
   "source": [
    "def plot_hist_mean_std(df, mean, std, bins=10, title='Histogram', xlabel='Returns', ylabel='Frequency'):\n",
    "    plt.figure(figsize=(10,5), dpi=200)\n",
    "    plt.hist(df, bins=bins, edgecolor='black')\n",
    "    plt.axvline(mean, color='w', linestyle='dashed', linewidth=2)\n",
    "    plt.axvline(std, color='r', linestyle='dashed', linewidth=2)\n",
    "    plt.axvline(-std, color='r', linestyle='dashed', linewidth=2)\n",
    "    plt.grid(color='blue', linestyle='--', linewidth=1, alpha=0.2)\n",
    "    plt.title(title)\n",
    "    plt.xlabel(xlabel)\n",
    "    plt.ylabel(ylabel)\n",
    "    plt.legend(df)\n",
    "    plt.show()\n",
    "\n",
    "\n",
    "def test_run():\n",
    "    # Define a data range\n",
    "    start, end = '2009-01-01', '2012-12-31'\n",
    "    dates = pd.date_range(start, end) # year 2010\n",
    "    \n",
    "    # Choose stock symbols to read\n",
    "    symbols = ['SPY']  # SPY will be added in get_data()\n",
    "    \n",
    "    # Get stock data\n",
    "    df = get_data(symbols=symbols, dates=dates)\n",
    "    \n",
    "    # Plot data\n",
    "    # plot_data(df, title='Stock price')\n",
    "    \n",
    "    # Compute daily returns\n",
    "    daily_returns = compute_daily_returns(df)\n",
    "    # plot_data(daily_returns, title='Daily returns', xlabel='Date', ylabel='Daily returns')\n",
    "    \n",
    "    \n",
    "    # Get mean and standard deviation\n",
    "    mean = daily_returns['SPY'].mean()\n",
    "    print(\"Mean\", np.round(mean, 3))\n",
    "    std = daily_returns['SPY'].std()\n",
    "    print(\"Standard Deviation:\", np.round(std, 3))\n",
    "    # Compute kurtosis\n",
    "    print(\"Kurtosis:\", daily_returns.kurtosis())\n",
    "    \n",
    "    # Plot a histogram\n",
    "    plot = plot_hist_mean_std(daily_returns, mean=mean, std=std, bins=20, \n",
    "                              title='Histogram', xlabel='Returns', ylabel='Frequency') # default bins = 10\n",
    "    \n",
    "    \n",
    "test_run()"
   ]
  },
  {
   "cell_type": "markdown",
   "id": "234d195e-cef8-4152-9a70-6e485863ad09",
   "metadata": {},
   "source": [
    "### Plot two histograms together"
   ]
  },
  {
   "cell_type": "code",
   "execution_count": null,
   "id": "9f944491-c1ac-4165-b8a5-460287745766",
   "metadata": {},
   "outputs": [],
   "source": [
    "def test_run():\n",
    "    # Define a data range\n",
    "    start, end = '2009-01-01', '2012-12-31'\n",
    "    dates = pd.date_range(start, end) # year 2010\n",
    "    \n",
    "    # Choose stock symbols to read\n",
    "    symbols = ['SPY', 'XOM']  # SPY will be added in get_data()\n",
    "    \n",
    "    # Get stock data\n",
    "    df = get_data(symbols=symbols, dates=dates)\n",
    "    \n",
    "    # Compute daily returns\n",
    "    daily_returns = compute_daily_returns(df)\n",
    "    \n",
    "    # Plot a histogram\n",
    "    plot_hist(daily_returns, bins=20, title='Histogram', xlabel='Returns', ylabel='Frequency') # default bins = 10\n",
    "\n",
    "    \n",
    "test_run()"
   ]
  },
  {
   "cell_type": "markdown",
   "id": "5f8a2236-b956-4e95-80e2-fdd9c8b86ec8",
   "metadata": {
    "tags": []
   },
   "source": [
    "### Slope does not equal correlation\n",
    "Correlation is a measure of how tightly the values fit the line."
   ]
  },
  {
   "cell_type": "markdown",
   "id": "02e2c94f-8009-4006-b17d-06f3e932f914",
   "metadata": {},
   "source": [
    "### Scatterplots in python"
   ]
  },
  {
   "cell_type": "code",
   "execution_count": null,
   "id": "2b09802f-6577-4b47-ba1d-80ac8cac5dd9",
   "metadata": {},
   "outputs": [],
   "source": [
    "def plot_scatter(df, x, y, title='Stock prices', xlabel='Date', ylabel='Price'):\n",
    "    plt.figure(figsize=(10,5), dpi=200)\n",
    "    \n",
    "    # Fit a line\n",
    "    beta, alpha = np.polyfit(df[x], df[y], 1)\n",
    "    plt.plot(df[x], beta*df[x] + alpha, color='r', linewidth=2.5)\n",
    "    \n",
    "    plt.scatter(x=df[x], y=df[y], edgecolor='black', s=60, alpha=0.7)\n",
    "    plt.grid(color='blue', linestyle='--', linewidth=1, alpha=0.2)\n",
    "    plt.title(title)\n",
    "    plt.xlabel(xlabel)\n",
    "    plt.ylabel(ylabel)\n",
    "    plt.legend([f\"Beta = {np.round(beta,3)}\\nAlpha = {np.round(alpha,3)}\"])\n",
    "    plt.show()\n",
    "    \n",
    "\n",
    "def test_run():\n",
    "    # Define a data range\n",
    "    start, end = '2009-01-01', '2012-12-31'\n",
    "    dates = pd.date_range(start, end) # year 2010\n",
    "    \n",
    "    # Choose stock symbols to read\n",
    "    symbols = ['SPY', 'XOM', 'GLD']  # SPY will be added in get_data()\n",
    "    \n",
    "    # Get stock data\n",
    "    df = get_data(symbols=symbols, dates=dates)\n",
    "    \n",
    "    # Compute daily returns\n",
    "    daily_returns = compute_daily_returns(df)\n",
    "    \n",
    "    # Scatterplot SPY vs XOM\n",
    "    plot_scatter(daily_returns, x='SPY', y='XOM', title='SPY vs XOM Scatterplot', \n",
    "                 xlabel='SPY', ylabel='XOM')\n",
    "    \n",
    "    # Scatterplot SPY vs GLD\n",
    "    plot_scatter(daily_returns, x='SPY', y='GLD', title='SPY vs GLD Scatterplot', \n",
    "                 xlabel='SPY', ylabel='GLD')\n",
    "    \n",
    "    # Compute correlation coefficient\n",
    "    corr = daily_returns.corr(method='pearson')\n",
    "    print(f\"Correlation:\\n{corr}\")\n",
    "    \n",
    "test_run()"
   ]
  },
  {
   "cell_type": "code",
   "execution_count": null,
   "id": "a567c6e2-ebb1-4098-8692-a34598f8422d",
   "metadata": {},
   "outputs": [],
   "source": [
    "def plot_data(df, title='Stock prices'):\n",
    "    \"\"\"Plot stock prices\"\"\"\n",
    "    plt.figure(figsize=(10,5), dpi=200)\n",
    "    plt.plot(df)\n",
    "    plt.grid(color='blue', linestyle='--', linewidth=1, alpha=0.2)\n",
    "    plt.title(title)\n",
    "    plt.xlabel(\"Date\")\n",
    "    plt.ylabel(\"Price\")\n",
    "    plt.legend(df)\n",
    "    plt.show()\n",
    "    \n",
    "    \n",
    "def test_run():\n",
    "    # Define a data range\n",
    "    start, end = '2009-01-01', '2012-12-31'\n",
    "    dates = pd.date_range(start, end) # year 2010\n",
    "    \n",
    "    # Choose stock symbols to read\n",
    "    symbols = ['SPY', 'XOM', 'GLD']  # SPY will be added in get_data()\n",
    "    \n",
    "    # Get stock data\n",
    "    df = get_data(symbols=symbols, dates=dates)\n",
    "    \n",
    "    # Plot data\n",
    "    plot_data(df)\n",
    "\n",
    "    \n",
    "test_run()"
   ]
  },
  {
   "cell_type": "markdown",
   "id": "4da2a81f-0551-45aa-a6ab-c7e96a6f77c0",
   "metadata": {
    "jp-MarkdownHeadingCollapsed": true,
    "tags": []
   },
   "source": [
    "## 01-07 Sharpe ratio and other portfolio statistics"
   ]
  },
  {
   "cell_type": "markdown",
   "id": "745dcb27-c19f-44e8-995f-35f642580503",
   "metadata": {},
   "source": [
    "### Sharpe ratio and other portfolio statistics overview\n",
    "Portfolio: allocation of funds to a set of stocks.\n"
   ]
  },
  {
   "cell_type": "markdown",
   "id": "a7df5a79-8d93-43f9-9484-95dd8472f042",
   "metadata": {},
   "source": [
    "### Daily portfolio values\n",
    "1. Prices dataframe with stocks in our portfolio.\n",
    "2. Normalize data: `normed = prices/prices[0]`\n",
    "3. Allocate weights for each stock in portfolio and multiply them.\n",
    "4. Pos-vals: multiply allocated dataframe with start value.\n",
    "5. Port-val: calculate the sum value of each day for the row (axis=1)."
   ]
  },
  {
   "cell_type": "code",
   "execution_count": null,
   "id": "f1c24abb-b3a0-4888-8c5c-a60aadcbb803",
   "metadata": {},
   "outputs": [],
   "source": [
    "# Computing daily returns\n",
    "# Define a data range\n",
    "start, end = '2009-01-01', '2012-12-31'\n",
    "dates = pd.date_range(start, end) # year 2010\n",
    "\n",
    "# Choose stock symbols to read\n",
    "symbols = ['SPY', 'XOM', 'GLD']  # SPY will be added in get_data()\n",
    "\n",
    "# Get stock data\n",
    "df = get_data(symbols=symbols, dates=dates)\n",
    "\n",
    "daily_returns = df.copy()\n",
    "daily_returns[1:] = (df.iloc[1:] / df.iloc[:-1].values) - 1\n",
    "daily_returns.iloc[0, :] = 0"
   ]
  },
  {
   "cell_type": "code",
   "execution_count": null,
   "id": "d677feda-6759-47d4-bc46-f6c0edbf2275",
   "metadata": {},
   "outputs": [],
   "source": [
    "daily_returns.head()"
   ]
  },
  {
   "cell_type": "markdown",
   "id": "638edc8c-5eb3-4280-bdc8-e2c5d9551e60",
   "metadata": {},
   "source": [
    "### Portfolio statistics\n",
    "- **Cumulative return:** how much the value of the portfolio has gone up from the beginning to the end.\n",
    "- **Avg. daily return:** is the average of the daily return\n",
    "- **Std. daily return:** is the std. of the daily return\n",
    "- **Sharpe ratio:** risk adjusted return. Lower risk/higher return is better. Also considers risk free rate of return."
   ]
  },
  {
   "cell_type": "markdown",
   "id": "ec4647b2-5891-40ca-86c3-a07553ff7cea",
   "metadata": {},
   "source": [
    "### Form of the Sharpe ratio\n",
    "\n",
    "$\\large\n",
    " \\begin{array}{l}\n",
    "S_{a} =\\frac{E[ R_{a} -R_{b}]}{\\sigma _{a}}\\\\\n",
    "\\\\\n",
    "S_{a} =\\text{Sharpe ratio}\\\\\n",
    "E=\\text{expected value}\\\\\n",
    "R_{a} =\\text{asset return}\\\\\n",
    "R_{b} =\\text{risk free return}\\\\\n",
    "\\sigma _{a} =\\text{standard deviation of the asset excess return}\n",
    "\\end{array}\n",
    "$"
   ]
  },
  {
   "cell_type": "markdown",
   "id": "24de1d97-63a6-4e34-87a1-929cca5bc22c",
   "metadata": {},
   "source": [
    "### Computing Sharpe ratio\n",
    "$\\large\n",
    " \\begin{array}{l}\n",
    "S=\\frac{\\text{mean(daily_returns } -\\text{ daily_risk_free)}}{\\text{std(daily_returns } -\\text{ daily_risk_free)}}\\\\\n",
    "\\\\\n",
    "S=\\frac{\\text{mean(daily_returns } -\\text{ daily_rf)}}{\\text{std(daily_returns})}\n",
    "\\end{array}\n",
    "$\n",
    "\n",
    "What is the **risk free rate**?\n",
    "- LIBOR\n",
    "- 3-month treasury bill\n",
    "- 0%\n",
    "\n",
    "$\\large\n",
    "\\text{daily_rf} =\\sqrt[252]{1.0+0} -1\n",
    "$"
   ]
  },
  {
   "cell_type": "markdown",
   "id": "e6c96944-5489-4d56-9992-561676091e95",
   "metadata": {},
   "source": [
    "### But wait, there's more!\n",
    "- SR can vary widely depending on how frequently you sample\n",
    "- SR is an annual measure\n",
    "- $SR\\ \\text{annualized} =K\\times SR$\n",
    "- $K=\\sqrt{\\text{# samples per year}}$\n",
    "- $ \\begin{array}{l}\n",
    "\\text{daily K} =\\sqrt{252}\\\\\n",
    "\\text{weekly K} =\\sqrt{52}\\\\\n",
    "\\text{monthly K} =\\sqrt{12}\n",
    "\\end{array}$\n",
    "\n",
    "Sharpe ratio summary:\n",
    "\n",
    "$\\large\n",
    "SR=\\sqrt{252} \\times \\frac{\\text{mean(daily_returns } -\\text{ daily_rf)}}{\\text{std(daily_returns})}\n",
    "$"
   ]
  },
  {
   "cell_type": "markdown",
   "id": "fb2d925f-19dc-4f79-bcad-8ffb1d08f793",
   "metadata": {},
   "source": [
    "### Quiz: What is the Sharpe ratio?\n",
    "- 60 days of data\n",
    "- avg. daily ret = 10 bps = 0.001\n",
    "- daily risk free = 2 bps = 0.0002\n",
    "- std. daily ret = 10 bps = 0.001"
   ]
  },
  {
   "cell_type": "code",
   "execution_count": null,
   "id": "38c5b621-3ab4-49a5-97c7-04f5694cdf50",
   "metadata": {},
   "outputs": [],
   "source": [
    "daily_ret = 0.001\n",
    "daily_rf = 0.0002\n",
    "std_dr =  0.001\n",
    "\n",
    "# Compute Sharpe ratio\n",
    "SR = np.sqrt(252)*(np.mean(daily_ret - daily_rf)/std_dr)\n",
    "print(f'Sharpe ratio = {np.round(SR, 3)}')"
   ]
  },
  {
   "cell_type": "markdown",
   "id": "85c4ee66-f7a2-466a-b21f-2a478fc4bc1b",
   "metadata": {},
   "source": [
    "## 01-08 Optimizers: Building a parameterized model"
   ]
  },
  {
   "cell_type": "markdown",
   "id": "6b32a5e7-e268-499e-890e-15c6ad05ba7c",
   "metadata": {},
   "source": [
    "## What is an optimizer?\n",
    "#### Optimizers\n",
    "- Find minimum values of functions.\n",
    "- Build parameterized models based on data.\n",
    "- Refine allocations to stocks in portfolios (e.g., what percentage of funds should be allocated to each stock).\n",
    "\n",
    "How to use an optimizer?\n",
    "1. Provide a function to minimize.\n",
    "2. Provide an initial guess.\n",
    "3. Call the optimizer."
   ]
  },
  {
   "cell_type": "code",
   "execution_count": null,
   "id": "6c2abbab-a7b0-406b-a1b9-c36de9390e4d",
   "metadata": {},
   "outputs": [],
   "source": [
    "import scipy.optimize as spo"
   ]
  },
  {
   "cell_type": "markdown",
   "id": "e31dd9c0-a4ef-4f3a-bc5e-f9c0356ff17c",
   "metadata": {},
   "source": [
    "### Minimizer in Python\n",
    "Minimize an objective function, using SciPy."
   ]
  },
  {
   "cell_type": "code",
   "execution_count": null,
   "id": "a752a67d-a328-443e-9157-059c15e161d8",
   "metadata": {},
   "outputs": [],
   "source": [
    "def f(x):\n",
    "    \"\"\"Given a scalar X, return some value (a real number).\"\"\"\n",
    "    y = (x -1.5)**2 + 0.5\n",
    "    print(f\"x = {x}, y = {y}\")\n",
    "    return y\n",
    "\n",
    "def test_run():\n",
    "    Xguess = 2.0\n",
    "    min_result = spo.minimize(f, Xguess, method='SLSQP', options={'disp': True})\n",
    "    print(f\"Minima found at: X = {min_result.x}, y = {min_result.fun}\")\n",
    "    \n",
    "    # Plot function values, mark minima\n",
    "    Xplot = np.linspace(0.5, 2.5, 21)\n",
    "    Yplot = f(Xplot)\n",
    "    plt.figure(figsize=(10,6), dpi=200)\n",
    "    plt.grid(color='blue', linestyle='--', linewidth=1, alpha=0.2)\n",
    "    plt.plot(Xplot, Yplot)\n",
    "    plt.plot(min_result.x, min_result.fun, 'ro')\n",
    "    plt.title(\"Minima of an objective function\")\n",
    "    plt.show()\n",
    "    \n",
    "test_run()"
   ]
  },
  {
   "cell_type": "markdown",
   "id": "f38ddbd2-409d-451f-89ae-6eff514da183",
   "metadata": {},
   "source": [
    "### Convex problems\n",
    "A real valued function $f(x)$ defined on an interval is called **convex** is the line segment between any two points in the function lies above the graph.\n",
    "- Convex function has only one **local minima** (where local minima = global minima).\n",
    "- No flat regions."
   ]
  },
  {
   "cell_type": "markdown",
   "id": "bbadeb64-f36e-4083-8315-64815278a794",
   "metadata": {},
   "source": [
    "### Building a parameterized model\n",
    "$f(x) = w\\cdot x + b$\n",
    "\n",
    "Objective: find the optimal value of $w$ that minimizes the cost of the function."
   ]
  },
  {
   "cell_type": "code",
   "execution_count": null,
   "id": "81b5dfaa-d48e-4157-9ba7-cde4e505f73e",
   "metadata": {},
   "outputs": [],
   "source": [
    "def error(line, data):  # error function\n",
    "    \"\"\"Compute error between given line model and observed data.\n",
    "\n",
    "    :param line: tuple, list, array (w, b) where w is slope and b is Y-intercept\n",
    "    :param data: 2D array where each row is a point (x, y)\n",
    "    :return: error as a single real value.\n",
    "    \"\"\"\n",
    "    # Metric: Sum of squared Y-axis differences\n",
    "    err = np.sum((data[:,1] - (line[0] * data[:, 0] + line[1])) ** 2)\n",
    "    return err\t\n",
    "\n",
    "\n",
    "def fit_line(data, error_func):\n",
    "    \"\"\"Fit a line to given data, using a supplied error function.\n",
    "\n",
    "    :param data: 2D array where each row is a point (x, y).\n",
    "    :param error_func: function that computes the error between al ine and observed data.\n",
    "    :return: line that minimizes the error function.\n",
    "    \"\"\"\n",
    "    # Generate initial guess for line model \n",
    "    l = np.float32([0, np.mean(data[:, 1])])  # slope = 0, intercept = mean(y values)\n",
    "\n",
    "    # Plot initial guess (optional)\n",
    "    x_ends = np.float32([-5, 5])\n",
    "    plt.plot(x_ends, l[0] * x_ends + l[1], 'm--', linewidth=2.0, label = \"Initial guess\")\n",
    "\n",
    "    # Call optimizer to minimize error function\n",
    "    result = spo.minimize(error_func, l, args=(data,), method = 'SLSQP', options={'disp': True})\n",
    "    return result.x\n",
    "\n",
    "\n",
    "def test_run():\n",
    "    # Define original line\n",
    "    l_orig = np.float32([4, 2])\n",
    "    print(f\"Original line: w = {l_orig[0]}, b = {l_orig[1]}\")\n",
    "    Xorig = np.linspace(0, 10, 21)\n",
    "    Yorig = l_orig[0] * Xorig + l_orig[1]\n",
    "    plt.figure(figsize=(10,6), dpi=200)\n",
    "    plt.grid(color='blue', linestyle='--', linewidth=1, alpha=0.2)\n",
    "    plt.plot(Xorig, Yorig, 'b--', linewidth=2.0, label='Original line')\n",
    "\n",
    "    # Generate noisy data points\n",
    "    noise_sigma = 3.0\n",
    "    noise = np.random.normal(0, noise_sigma, Yorig.shape)\n",
    "    data = np.asarray([Xorig, Yorig + noise]).T\n",
    "    plt.plot(data[:, 0], data[:, 1], 'go', label='Data points')\n",
    "\n",
    "    # Try to fit a line to this data\n",
    "    l_fit = fit_line(data, error)\n",
    "    print(f\"Fitted line: w = {l_fit[0]}, b = {l_fit[1]}\")\n",
    "    plt.plot(data[:, 0], l_fit[0] * data[:, 0] + l_fit[1], 'r--', linewidth=2.0, label='Data points')\n",
    "\n",
    "    # Add a legend and show plot\n",
    "    plt.legend(loc='upper left')\n",
    "    plt.show()\n",
    "\n",
    "    \n",
    "test_run()"
   ]
  },
  {
   "cell_type": "markdown",
   "id": "b45f6f59-01fd-4aca-afc9-dc26aa852942",
   "metadata": {},
   "source": [
    "### And it works for polynomials too!"
   ]
  },
  {
   "cell_type": "code",
   "execution_count": null,
   "id": "892c6593-b4db-45d0-ba8f-1f59ed179fc2",
   "metadata": {},
   "outputs": [],
   "source": [
    "def error_poly(C, data): # error function\n",
    "    \"\"\"Compute error between given polynomial and observed data.\n",
    "\n",
    "    Parameters\n",
    "    ----------\n",
    "    C: numpy.poly1d object or equivalent array representing polynomial coefficients\n",
    "    data: 2D array where each row is a point (x, y)\n",
    "\n",
    "    Returns error as a single real value.\n",
    "    \"\"\"\n",
    "    # Metric: Sum of squared Y-axis differences\n",
    "    err = np.sum((data[:,1] - np.polyval(C, data[:,0])) ** 2)\n",
    "    return err\n",
    "\n",
    "\n",
    "def fit_poly(data, error_func, degree=3):\n",
    "    \"\"\"Fit a polynomial to given data, using a supplied error function.\n",
    "\n",
    "    Parameters\n",
    "    ----------\n",
    "    data: 2D array where each row is a point (X0, Y)\n",
    "    error_func: function that computes the error between a polynomial and observed data\n",
    "\n",
    "    Returns polynomial that minimizes the error function.\n",
    "    \"\"\"\n",
    "    # Generate initial guess for line model (all coeffs = 1)\n",
    "    Cguess = np.poly1d(np.ones(degree + 1, dtype=np.float32))\n",
    "\n",
    "    # Plot initial guess (optional)\n",
    "    x = np.linspace(-5, 5, 21)\n",
    "    plt.plot(x, np.polyval(Cguess, x), 'm--', linewidth=2.0, label = \"Initial guess\")\n",
    "\n",
    "    # Call optimizer to minimize error function\n",
    "    result = spo.minimize(error_func, Cguess, args=(data,), method = 'SLSQP', options={'disp': True})\n",
    "    return np.poly1d(result.x) # convert optimal result into a poly1d object and return\n",
    "\n",
    "\n",
    "def test_run():\n",
    "    # Define original line\n",
    "\n",
    "    # Generate noisy data points\n",
    "\n",
    "\n",
    "    # Try to fit a line to this data\n",
    "\n",
    "\n",
    "    # Add a legend and show plot\n",
    "    return\n",
    "\n",
    "\n",
    "test_run()"
   ]
  },
  {
   "cell_type": "code",
   "execution_count": null,
   "id": "97f4a5b7-a543-4f30-ae78-d26ac30a9d14",
   "metadata": {},
   "outputs": [],
   "source": []
  }
 ],
 "metadata": {
  "kernelspec": {
   "display_name": "Python 3 (ipykernel)",
   "language": "python",
   "name": "python3"
  },
  "language_info": {
   "codemirror_mode": {
    "name": "ipython",
    "version": 3
   },
   "file_extension": ".py",
   "mimetype": "text/x-python",
   "name": "python",
   "nbconvert_exporter": "python",
   "pygments_lexer": "ipython3",
   "version": "3.9.12"
  }
 },
 "nbformat": 4,
 "nbformat_minor": 5
}
