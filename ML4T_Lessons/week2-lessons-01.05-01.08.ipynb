{
 "cells": [
  {
   "cell_type": "markdown",
   "id": "682f5b75-7b43-4711-bf72-28b9f39ec832",
   "metadata": {},
   "source": [
    "# CS 7646: Machine Learning for Trading\n",
    "## Week 2 - 08/29/2022\n",
    "### Lessons: 01-05 to 01-08"
   ]
  },
  {
   "cell_type": "code",
   "execution_count": null,
   "id": "f2bc2b85-6209-4097-897c-78c751657f4c",
   "metadata": {},
   "outputs": [],
   "source": [
    "import numpy as np"
   ]
  },
  {
   "cell_type": "code",
   "execution_count": null,
   "id": "4658cd80-c18e-487c-a257-9e3593339410",
   "metadata": {},
   "outputs": [],
   "source": []
  }
 ],
 "metadata": {
  "kernelspec": {
   "display_name": "Python 3 (ipykernel)",
   "language": "python",
   "name": "python3"
  },
  "language_info": {
   "codemirror_mode": {
    "name": "ipython",
    "version": 3
   },
   "file_extension": ".py",
   "mimetype": "text/x-python",
   "name": "python",
   "nbconvert_exporter": "python",
   "pygments_lexer": "ipython3",
   "version": "3.9.12"
  }
 },
 "nbformat": 4,
 "nbformat_minor": 5
}
